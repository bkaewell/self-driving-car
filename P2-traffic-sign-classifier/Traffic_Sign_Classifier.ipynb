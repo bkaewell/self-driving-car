{
 "cells": [
  {
   "cell_type": "markdown",
   "metadata": {},
   "source": [
    "# Self-Driving Car Engineer Nanodegree\n",
    "\n",
    "## Deep Learning\n",
    "\n",
    "## Project: Build a Traffic Sign Recognition Classifier\n",
    "\n",
    "In this notebook, a template is provided for you to implement your functionality in stages, which is required to successfully complete this project. If additional code is required that cannot be included in the notebook, be sure that the Python code is successfully imported and included in your submission if necessary. \n",
    "\n",
    "> **Note**: Once you have completed all of the code implementations, you need to finalize your work by exporting the iPython Notebook as an HTML document. Before exporting the notebook to html, all of the code cells need to have been run so that reviewers can see the final implementation and output. You can then export the notebook by using the menu above and navigating to  \\n\",\n",
    "    \"**File -> Download as -> HTML (.html)**. Include the finished document along with this notebook as your submission. \n",
    "\n",
    "In addition to implementing code, there is a writeup to complete. The writeup should be completed in a separate file, which can be either a markdown file or a pdf document. There is a [write up template](https://github.com/udacity/CarND-Traffic-Sign-Classifier-Project/blob/master/writeup_template.md) that can be used to guide the writing process. Completing the code template and writeup template will cover all of the [rubric points](https://review.udacity.com/#!/rubrics/481/view) for this project.\n",
    "\n",
    "The [rubric](https://review.udacity.com/#!/rubrics/481/view) contains \"Stand Out Suggestions\" for enhancing the project beyond the minimum requirements. The stand out suggestions are optional. If you decide to pursue the \"stand out suggestions\", you can include the code in this Ipython notebook and also discuss the results in the writeup file.\n",
    "\n",
    "\n",
    ">**Note:** Code and Markdown cells can be executed using the **Shift + Enter** keyboard shortcut. In addition, Markdown cells can be edited by typically double-clicking the cell to enter edit mode."
   ]
  },
  {
   "cell_type": "markdown",
   "metadata": {},
   "source": [
    "---\n",
    "## Step 0: Load The Data"
   ]
  },
  {
   "cell_type": "code",
   "execution_count": 1,
   "metadata": {},
   "outputs": [],
   "source": [
    "# Load pickled data:\n",
    "import pickle\n",
    "\n",
    "# Read in the training and testing data:\n",
    "training_file = r\"./train.p\"\n",
    "validation_file = r\"./valid.p\"\n",
    "testing_file = r\"./test.p\"\n",
    "\n",
    "with open(training_file, mode='rb') as f:\n",
    "    train = pickle.load(f)\n",
    "with open(validation_file, mode='rb') as f:\n",
    "    valid = pickle.load(f)\n",
    "with open(testing_file, mode='rb') as f:\n",
    "    test = pickle.load(f)\n",
    "\n",
    "# Store the data sets:\n",
    "X_train = train['features']\n",
    "y_train = train['labels']\n",
    "\n",
    "X_valid = valid['features']\n",
    "y_valid = valid['labels']\n",
    "\n",
    "X_test = test['features']\n",
    "y_test = test['labels']"
   ]
  },
  {
   "cell_type": "markdown",
   "metadata": {},
   "source": [
    "---\n",
    "\n",
    "## Step 1: Dataset Summary & Exploration\n",
    "\n",
    "The pickled data is a dictionary with 4 key/value pairs:\n",
    "\n",
    "- `'features'` is a 4D array containing raw pixel data of the traffic sign images, (num examples, width, height, channels).\n",
    "- `'labels'` is a 1D array containing the label/class id of the traffic sign. The file `signnames.csv` contains id -> name mappings for each id.\n",
    "- `'sizes'` is a list containing tuples, (width, height) representing the original width and height the image.\n",
    "- `'coords'` is a list containing tuples, (x1, y1, x2, y2) representing coordinates of a bounding box around the sign in the image. **THESE COORDINATES ASSUME THE ORIGINAL IMAGE. THE PICKLED DATA CONTAINS RESIZED VERSIONS (32 by 32) OF THESE IMAGES**\n",
    "\n",
    "Complete the basic data summary below. Use python, numpy and/or pandas methods to calculate the data summary rather than hard coding the results. For example, the [pandas shape method](http://pandas.pydata.org/pandas-docs/stable/generated/pandas.DataFrame.shape.html) might be useful for calculating some of the summary results. "
   ]
  },
  {
   "cell_type": "markdown",
   "metadata": {},
   "source": [
    "### Provide a Basic Summary of the Data Set Using Python, Numpy and/or Pandas"
   ]
  },
  {
   "cell_type": "code",
   "execution_count": 2,
   "metadata": {},
   "outputs": [
    {
     "name": "stdout",
     "output_type": "stream",
     "text": [
      "Number of training examples = 34799\n",
      "Number of validation samples = 4410\n",
      "Number of testing examples = 12630\n",
      "Image data shape = (32, 32, 3)\n",
      "Number of classes = 43\n"
     ]
    }
   ],
   "source": [
    "# Number of training examples\n",
    "n_train = len(X_train)\n",
    "\n",
    "# Number of validation examples\n",
    "n_validation = len(X_valid)\n",
    "\n",
    "# Number of testing examples\n",
    "n_test = len(X_test)\n",
    "\n",
    "# Shape of a traffic sign image\n",
    "image_shape = X_train[0].shape\n",
    "\n",
    "# How many unique classes/labels are there in the dataset?\n",
    "n_classes = len(set(y_train))\n",
    "\n",
    "# Dropout, probability to keep units\n",
    "dropout = 0.75\n",
    "\n",
    "print(\"Number of training examples =\", n_train)\n",
    "print(\"Number of validation samples =\", n_validation)\n",
    "print(\"Number of testing examples =\", n_test)\n",
    "print(\"Image data shape =\", image_shape)\n",
    "print(\"Number of classes =\", n_classes)\n"
   ]
  },
  {
   "cell_type": "markdown",
   "metadata": {},
   "source": [
    "### Include an exploratory visualization of the dataset"
   ]
  },
  {
   "cell_type": "markdown",
   "metadata": {},
   "source": [
    "Visualize the German Traffic Signs Dataset using the pickled file(s). This is open ended, suggestions include: plotting traffic sign images, plotting the count of each sign, etc. \n",
    "\n",
    "The [Matplotlib](http://matplotlib.org/) [examples](http://matplotlib.org/examples/index.html) and [gallery](http://matplotlib.org/gallery.html) pages are a great resource for doing visualizations in Python.\n",
    "\n",
    "**NOTE:** It's recommended you start with something simple first. If you wish to do more, come back to it after you've completed the rest of the sections. It can be interesting to look at the distribution of classes in the training, validation and test set. Is the distribution the same? Are there more examples of some classes than others?"
   ]
  },
  {
   "cell_type": "code",
   "execution_count": 3,
   "metadata": {
    "scrolled": true
   },
   "outputs": [
    {
     "data": {
      "text/plain": [
       "[]"
      ]
     },
     "execution_count": 3,
     "metadata": {},
     "output_type": "execute_result"
    },
    {
     "data": {
      "image/png": "[encoded data removed]",
      "text/plain": [
       "<Figure size 432x288 with 1 Axes>"
      ]
     },
     "metadata": {},
     "output_type": "display_data"
    }
   ],
   "source": [
    "### Data exploration visualization:\n",
    "import random\n",
    "import numpy as np\n",
    "import pandas as pd\n",
    "import matplotlib.pyplot as plt\n",
    "%matplotlib inline\n",
    "\n",
    "# Load helper data from csv file:\n",
    "df = pd.read_csv('./signnames.csv')\n",
    "#print(df)\n",
    "\n",
    "# Histogram of the data:\n",
    "plt.hist(y_train, bins=n_classes, facecolor='green', alpha=0.75)\n",
    "plt.xlabel('Class Id')\n",
    "plt.ylabel('Frequency')\n",
    "plt.title('Histogram of the German Traffic Sign Data Set')\n",
    "plt.grid(True)\n",
    "plt.xticks(np.arange(0, n_classes, 5))\n",
    "plt.plot()\n",
    "#plt.savefig('output/traffic_sign_histogram.jpg', dpi=100)"
   ]
  },
  {
   "cell_type": "code",
   "execution_count": 4,
   "metadata": {},
   "outputs": [
    {
     "name": "stdout",
     "output_type": "stream",
     "text": [
      "<class 'numpy.ndarray'>\n",
      "<class 'numpy.ndarray'>\n",
      "<class 'numpy.ndarray'>\n",
      "<class 'numpy.ndarray'>\n"
     ]
    },
    {
     "data": {
      "image/png": "[encoded data removed]",
      "text/plain": [
       "<Figure size 432x288 with 4 Axes>"
      ]
     },
     "metadata": {},
     "output_type": "display_data"
    }
   ],
   "source": [
    "# Example images from the training data:\n",
    "fig=plt.figure()\n",
    "for i in range(4):\n",
    "    index = random.randint(0, n_train)\n",
    "    image = X_train[index]\n",
    "    plt.subplot(2,2,i+1)\n",
    "    plt.axis('off')\n",
    "    tmp = plt.imshow(image)\n",
    "    print(type(image))\n",
    "tmp = plt.suptitle('Example Images of the German Traffic Sign Data Set')\n",
    "#plt.savefig('output/traffic_sign_examples.jpg', dpi=100)"
   ]
  },
  {
   "cell_type": "markdown",
   "metadata": {},
   "source": [
    "----\n",
    "\n",
    "## Step 2: Design and Test a Model Architecture\n",
    "\n",
    "Design and implement a deep learning model that learns to recognize traffic signs. Train and test your model on the [German Traffic Sign Dataset](http://benchmark.ini.rub.de/?section=gtsrb&subsection=dataset).\n",
    "\n",
    "The LeNet-5 implementation shown in the [classroom](https://classroom.udacity.com/nanodegrees/nd013/parts/fbf77062-5703-404e-b60c-95b78b2f3f9e/modules/6df7ae49-c61c-4bb2-a23e-6527e69209ec/lessons/601ae704-1035-4287-8b11-e2c2716217ad/concepts/d4aca031-508f-4e0b-b493-e7b706120f81) at the end of the CNN lesson is a solid starting point. You'll have to change the number of classes and possibly the preprocessing, but aside from that it's plug and play! \n",
    "\n",
    "With the LeNet-5 solution from the lecture, you should expect a validation set accuracy of about 0.89. To meet specifications, the validation set accuracy will need to be at least 0.93. It is possible to get an even higher accuracy, but 0.93 is the minimum for a successful project submission. \n",
    "\n",
    "There are various aspects to consider when thinking about this problem:\n",
    "\n",
    "- Neural network architecture (is the network over or underfitting?)\n",
    "- Play around preprocessing techniques (normalization, rgb to grayscale, etc)\n",
    "- Number of examples per label (some have more than others).\n",
    "- Generate fake data.\n",
    "\n",
    "Here is an example of a [published baseline model on this problem](http://yann.lecun.com/exdb/publis/pdf/sermanet-ijcnn-11.pdf). It's not required to be familiar with the approach used in the paper but, it's good practice to try to read papers like these."
   ]
  },
  {
   "cell_type": "markdown",
   "metadata": {},
   "source": [
    "### Pre-process the Data Set (normalization, grayscale, etc.)"
   ]
  },
  {
   "cell_type": "markdown",
   "metadata": {},
   "source": [
    "Minimally, the image data should be normalized so that the data has mean zero and equal variance. For image data, `(pixel - 128)/ 128` is a quick way to approximately normalize the data and can be used in this project. \n",
    "\n",
    "Other pre-processing steps are optional. You can try different techniques to see if it improves performance. \n",
    "\n",
    "Use the code cell (or multiple code cells, if necessary) to implement the first step of your project."
   ]
  },
  {
   "cell_type": "code",
   "execution_count": 5,
   "metadata": {},
   "outputs": [
    {
     "name": "stdout",
     "output_type": "stream",
     "text": [
      "Finished preprocessing the data set.\n",
      "\n"
     ]
    },
    {
     "data": {
      "image/png": "[encoded data removed]",
      "text/plain": [
       "<Figure size 432x288 with 2 Axes>"
      ]
     },
     "metadata": {},
     "output_type": "display_data"
    }
   ],
   "source": [
    "### Preprocess the data:\n",
    "import cv2\n",
    "from sklearn.utils import shuffle\n",
    "\n",
    "# To-do, cv2 not supported on udacity-carnd AMI on AWS..\n",
    "\n",
    "# Upsample minority classes:\n",
    "#X_train = np.array(train['features'])\n",
    "#y_train = np.array(train['labels'])\n",
    "#count_per_class = np.bincount(y_train)\n",
    "#avg_count = count_per_class.mean()\n",
    "#print(count_per_class)\n",
    "#print(avg_count)\n",
    "#print(\"\")\n",
    "#rotations = [-10, -5, 5, 10]\n",
    "\n",
    "# Based on the training data set, defining minority \n",
    "# class as any class less than 50% of the mean\n",
    "#for i in range(len(count_per_class)):\n",
    "    # If below the mean\n",
    "#    if count_per_class[i] < avg_count:\n",
    "#        delta = avg_count - count_per_class[i]\n",
    "#        ratio = delta // count_per_class[i]\n",
    "        #If below the mean by factor of 2 or more\n",
    "#        if ratio >= 1:\n",
    "#            #print(\"   \", delta, ratio)\n",
    "#            new_features = []\n",
    "#            new_labels = []\n",
    "#            mask = np.where(y_train == i)\n",
    "#            for j in range(int(ratio)):\n",
    "#                for image in X_train[mask]:\n",
    "#                    width, height, c = image.shape\n",
    "#                    M = cv2.getRotationMatrix2D((width, height), rotations[j], 1)\n",
    "#                    dst = cv2.warpAffine(image, M, (width, height))\n",
    "#                    new_features.append(dst)\n",
    "#                    new_labels.append(i)\n",
    "#            X_train = np.append(X_train, new_features, axis=0)\n",
    "#            y_train = np.append(y_train, new_labels, axis=0)    \n",
    "            \n",
    "# Histogram of the data post up-sampling\n",
    "#plt.hist(y_train, bins=n_classes, facecolor='green', alpha=0.75)\n",
    "#plt.xlabel('Class Id')\n",
    "#plt.ylabel('Frequency')\n",
    "#plt.title('Histogram of the German Traffic Sign Dataset')\n",
    "#plt.grid(True)\n",
    "#plt.xticks(np.arange(0, n_classes, 5))\n",
    "#plt.plot()            \n",
    "\n",
    "\n",
    "\n",
    "# Shuffle the training data:\n",
    "X_train, y_train = shuffle(X_train, y_train) \n",
    "\n",
    "# Transforms features by scaling each feature to a given range.\n",
    "# This estimator scales and translates each feature individually such \n",
    "# that it is in the given range on the training set, i.e. between zero and one.\n",
    "# Normalize the image data with Min-Max scaling to a range of [0.1, 0.9]\n",
    "# Keep the variance small\n",
    "a = 0.1\n",
    "b = 0.9\n",
    "X_train_norm =  a + (((X_train - np.min(X_train))*(b - a))/(np.max(X_train) - np.min(X_train)))\n",
    "X_test_norm =  a + (((X_test - np.min(X_test))*(b - a))/(np.max(X_test) - np.min(X_test)))\n",
    "#print(\"np.min(X_train)=\", np.min(X_train), \"np.min(X_train_norm)=\", np.min(X_train_norm))\n",
    "#print(\"np.max(X_train)=\", np.max(X_train), \"np.max(X_train_norm)=\", np.max(X_train_norm))\n",
    "\n",
    "# Plot Un-normalized vs Normalized:\n",
    "fig=plt.figure()\n",
    "index = random.randint(0, n_train)\n",
    "image = X_train[index]\n",
    "plt.subplot(1,2,1) #un-normalized\n",
    "plt.axis('off')\n",
    "plt.title('Original Image')\n",
    "tmp = plt.imshow(image)\n",
    "\n",
    "image = X_train_norm[index]\n",
    "plt.subplot(1,2,2) #normalized\n",
    "plt.axis('off')\n",
    "plt.title('Normalized w/ Min-Max Scaling')\n",
    "tmp = plt.imshow(image)\n",
    "#plt.savefig('output/traffic_sign_normalized.jpg', dpi=100)\n",
    "\n",
    "print(\"Finished preprocessing the data set.\")\n",
    "print(\"\")"
   ]
  },
  {
   "cell_type": "markdown",
   "metadata": {},
   "source": [
    "### Model Architecture"
   ]
  },
  {
   "cell_type": "code",
   "execution_count": 21,
   "metadata": {},
   "outputs": [],
   "source": [
    "from tensorflow.contrib.layers import flatten\n",
    "import tensorflow as tf\n",
    "\n",
    "EPOCHS = 10\n",
    "BATCH_SIZE = 100\n",
    "\n",
    "def LeNet(x, dropout):\n",
    "    # Hyper parameters:\n",
    "    mu = 0\n",
    "    sigma = 0.1\n",
    "    \n",
    "    # Convolutional (Layer 1). \n",
    "    # Input = 32x32x3. Output = 28x28x6.\n",
    "    conv1_W = tf.Variable(tf.truncated_normal(shape=(5, 5, 3, 6), mean = mu, stddev = sigma))\n",
    "    conv1_b = tf.Variable(tf.zeros(6))\n",
    "    conv1   = tf.nn.conv2d(x, conv1_W, strides=[1, 1, 1, 1], padding='VALID') + conv1_b\n",
    "\n",
    "    # Activation w/ dropout.\n",
    "    conv1 = tf.nn.relu(conv1)\n",
    "    #conv1 = tf.nn.dropout(conv1, dropout)\n",
    "\n",
    "    # Max Pooling. \n",
    "    # Input = 28x28x6. Output = 14x14x6.\n",
    "    conv1 = tf.nn.max_pool(conv1, ksize=[1, 2, 2, 1], strides=[1, 2, 2, 1], padding='VALID')\n",
    "\n",
    "    # Convolutional (Layer 2). \n",
    "    # Output = 10x10x16.\n",
    "    conv2_W = tf.Variable(tf.truncated_normal(shape=(5, 5, 6, 16), mean = mu, stddev = sigma))\n",
    "    conv2_b = tf.Variable(tf.zeros(16))\n",
    "    conv2   = tf.nn.conv2d(conv1, conv2_W, strides=[1, 1, 1, 1], padding='VALID') + conv2_b\n",
    "    \n",
    "    # Activation w/ dropout.\n",
    "    conv2 = tf.nn.relu(conv2)\n",
    "    #conv2 = tf.nn.dropout(conv2, dropout)\n",
    "\n",
    "    # Max Pooling. \n",
    "    # Input = 10x10x16. Output = 5x5x16.\n",
    "    conv2 = tf.nn.max_pool(conv2, ksize=[1, 2, 2, 1], strides=[1, 2, 2, 1], padding='VALID')\n",
    "\n",
    "    # Flatten. \n",
    "    # Input = 5x5x16. Output = 400.\n",
    "    fc0   = flatten(conv2)\n",
    "    \n",
    "    # Fully Connected (Layer 3). \n",
    "    # Input = 400. Output = 120.\n",
    "    fc1_W = tf.Variable(tf.truncated_normal(shape=(400, 120), mean = mu, stddev = sigma))\n",
    "    fc1_b = tf.Variable(tf.zeros(120))\n",
    "    fc1   = tf.matmul(fc0, fc1_W) + fc1_b\n",
    "    \n",
    "    # Activation w/ dropout.\n",
    "    fc1    = tf.nn.relu(fc1)\n",
    "    fc1    = tf.nn.dropout(fc1, dropout)\n",
    "\n",
    "    # Fully Connected (Layer 4). \n",
    "    # Input = 120. Output = 84.\n",
    "    fc2_W  = tf.Variable(tf.truncated_normal(shape=(120, 84), mean = mu, stddev = sigma))\n",
    "    fc2_b  = tf.Variable(tf.zeros(84))\n",
    "    fc2    = tf.matmul(fc1, fc2_W) + fc2_b\n",
    "    \n",
    "    # Activation w/ dropout.\n",
    "    fc2    = tf.nn.relu(fc2)\n",
    "    fc2    = tf.nn.dropout(fc2, dropout)\n",
    "\n",
    "    # Fully Connected (Layer 5). \n",
    "    # Input = 84. Output = n_classes = 43\n",
    "    fc3_W  = tf.Variable(tf.truncated_normal(shape=(84, n_classes), mean = mu, stddev = sigma))\n",
    "    fc3_b  = tf.Variable(tf.zeros(n_classes))\n",
    "    logits = tf.matmul(fc2, fc3_W) + fc3_b\n",
    "    \n",
    "    return logits"
   ]
  },
  {
   "cell_type": "markdown",
   "metadata": {},
   "source": [
    "### Train, Validate and Test the Model"
   ]
  },
  {
   "cell_type": "markdown",
   "metadata": {},
   "source": [
    "A validation set can be used to assess how well the model is performing. A low accuracy on the training and validation\n",
    "sets imply underfitting. A high accuracy on the training set but low accuracy on the validation set implies overfitting."
   ]
  },
  {
   "cell_type": "code",
   "execution_count": 22,
   "metadata": {},
   "outputs": [],
   "source": [
    "### Train your model here.\n",
    "### Calculate and report the accuracy on the training and validation set.\n",
    "### Once a final model architecture is selected, \n",
    "### the accuracy on the test set should be calculated and reported as well.\n",
    "### Feel free to use as many code cells as needed.\n",
    "\n",
    "# Features & labels:\n",
    "# x is a placeholder for a batch of input images\n",
    "# y is a placeholder for a batch of output labels\n",
    "\n",
    "#new_image_shape = add_pics_data.shape\n",
    "x = tf.placeholder(tf.float32, (None, 32, 32, 3))\n",
    "#x = tf.placeholder(tf.float32, shape=[None, 32, 32, 3])\n",
    "y = tf.placeholder(tf.int32, (None))\n",
    "one_hot_y = tf.one_hot(y, n_classes)\n",
    "\n",
    "keep_prob = tf.placeholder(tf.float32)"
   ]
  },
  {
   "cell_type": "code",
   "execution_count": 23,
   "metadata": {},
   "outputs": [],
   "source": [
    "# Training pipeline:\n",
    "rate = 0.001\n",
    "\n",
    "logits = LeNet(x, keep_prob)\n",
    "cross_entropy = tf.nn.softmax_cross_entropy_with_logits(labels=one_hot_y, logits=logits)\n",
    "loss_operation = tf.reduce_mean(cross_entropy)\n",
    "optimizer = tf.train.AdamOptimizer(learning_rate = rate)\n",
    "training_operation = optimizer.minimize(loss_operation)"
   ]
  },
  {
   "cell_type": "code",
   "execution_count": 24,
   "metadata": {},
   "outputs": [],
   "source": [
    "# Model evaluation:\n",
    "# Evaluate how well the loss and accuracy of the model for a given dataset\n",
    "correct_prediction = tf.equal(tf.argmax(logits, 1), tf.argmax(one_hot_y, 1))\n",
    "accuracy_operation = tf.reduce_mean(tf.cast(correct_prediction, tf.float32))\n",
    "saver = tf.train.Saver()\n",
    "\n",
    "def evaluate(X_data, y_data):\n",
    "    num_examples = len(X_data)\n",
    "    total_accuracy = 0\n",
    "    sess = tf.get_default_session()\n",
    "    for offset in range(0, num_examples, BATCH_SIZE):\n",
    "        batch_x, batch_y = X_data[offset:offset+BATCH_SIZE], y_data[offset:offset+BATCH_SIZE]\n",
    "        accuracy = sess.run(accuracy_operation, feed_dict={x: batch_x, y: batch_y, keep_prob: 1.0})\n",
    "        total_accuracy += (accuracy * len(batch_x))\n",
    "    return total_accuracy / num_examples"
   ]
  },
  {
   "cell_type": "code",
   "execution_count": 25,
   "metadata": {},
   "outputs": [
    {
     "name": "stdout",
     "output_type": "stream",
     "text": [
      "Training...\n",
      "\n",
      "EPOCH 1 ...\n",
      "Validation Avg Loss =     2.3564\n",
      "Validation Accuracy = 0.537\n",
      "\n",
      "EPOCH 2 ...\n",
      "Validation Avg Loss =     0.8706\n",
      "Validation Accuracy = 0.732\n",
      "\n",
      "EPOCH 3 ...\n",
      "Validation Avg Loss =     0.4457\n",
      "Validation Accuracy = 0.797\n",
      "\n",
      "EPOCH 4 ...\n",
      "Validation Avg Loss =     0.2815\n",
      "Validation Accuracy = 0.845\n",
      "\n",
      "EPOCH 5 ...\n",
      "Validation Avg Loss =     0.1998\n",
      "Validation Accuracy = 0.877\n",
      "\n",
      "EPOCH 6 ...\n",
      "Validation Avg Loss =     0.1514\n",
      "Validation Accuracy = 0.870\n",
      "\n",
      "EPOCH 7 ...\n",
      "Validation Avg Loss =     0.1201\n",
      "Validation Accuracy = 0.890\n",
      "\n",
      "EPOCH 8 ...\n",
      "Validation Avg Loss =     0.0974\n",
      "Validation Accuracy = 0.893\n",
      "\n",
      "EPOCH 9 ...\n",
      "Validation Avg Loss =     0.0823\n",
      "Validation Accuracy = 0.896\n",
      "\n",
      "EPOCH 10 ...\n",
      "Validation Avg Loss =     0.0688\n",
      "Validation Accuracy = 0.893\n",
      "\n",
      "Model saved\n"
     ]
    }
   ],
   "source": [
    "with tf.Session() as sess:\n",
    "    sess.run(tf.global_variables_initializer())\n",
    "    num_examples = len(X_train_norm)\n",
    "    validation_accuracy_list = []\n",
    "    avg_loss_list = []\n",
    "    num_iterations = num_examples / BATCH_SIZE\n",
    "    \n",
    "    print(\"Training...\")\n",
    "    print()\n",
    "    for i in range(EPOCHS):\n",
    "        total_loss = 0\n",
    "        X_train_norm, y_train = shuffle(X_train_norm, y_train)\n",
    "        for offset in range(0, num_examples, BATCH_SIZE):\n",
    "            end = offset + BATCH_SIZE\n",
    "            batch_x, batch_y = X_train_norm[offset:end], y_train[offset:end]\n",
    "            \n",
    "            loss = sess.run(loss_operation, feed_dict={x: batch_x, y: batch_y, keep_prob: 1.})\n",
    "            total_loss += loss\n",
    "            sess.run(training_operation, feed_dict={x: batch_x, y: batch_y, keep_prob: dropout})\n",
    "        \n",
    "        validation_accuracy = evaluate(X_valid, y_valid)\n",
    "        validation_accuracy_list.append(validation_accuracy)\n",
    "        avg_loss = total_loss / num_iterations\n",
    "        avg_loss_list.append(avg_loss)\n",
    "        \n",
    "        print(\"EPOCH {} ...\".format(i+1))\n",
    "        print(\"Validation Avg Loss = {:>10.4f}\".format(avg_loss))\n",
    "        print(\"Validation Accuracy = {:.3f}\".format(validation_accuracy))\n",
    "        print()\n",
    "\n",
    "    saver.save(sess, './lenet2')\n",
    "    print(\"Model saved\")"
   ]
  },
  {
   "cell_type": "code",
   "execution_count": 12,
   "metadata": {},
   "outputs": [
    {
     "data": {
      "image/png": "[encoded data removed]",
      "text/plain": [
       "<Figure size 432x288 with 1 Axes>"
      ]
     },
     "metadata": {},
     "output_type": "display_data"
    },
    {
     "data": {
      "text/plain": [
       "<Figure size 432x288 with 0 Axes>"
      ]
     },
     "metadata": {},
     "output_type": "display_data"
    }
   ],
   "source": [
    "    # Plot Model Accuracy\n",
    "    x = np.linspace(1, EPOCHS, EPOCHS)\n",
    "    y = np.array(validation_accuracy_list)\n",
    "    plt.plot(x, y, 'b-', label='validation')\n",
    "    plt.xlabel('Epoch')\n",
    "    plt.ylabel('Accuracy')\n",
    "    plt.title('Model Accuracy')\n",
    "    plt.legend(loc='lower right')\n",
    "    plt.show()\n",
    "    #plt.savefig('output/traffic_sign_model_accuracy.jpg', dpi=100)"
   ]
  },
  {
   "cell_type": "code",
   "execution_count": 13,
   "metadata": {},
   "outputs": [
    {
     "data": {
      "image/png": "[encoded data removed]",
      "text/plain": [
       "<Figure size 432x288 with 1 Axes>"
      ]
     },
     "metadata": {},
     "output_type": "display_data"
    },
    {
     "data": {
      "text/plain": [
       "<Figure size 432x288 with 0 Axes>"
      ]
     },
     "metadata": {},
     "output_type": "display_data"
    }
   ],
   "source": [
    "    # Plot Model Loss\n",
    "    x = np.linspace(1, EPOCHS, EPOCHS)\n",
    "    y = np.array(avg_loss_list)\n",
    "    plt.plot(x, y, 'r-', label='loss')\n",
    "    plt.xlabel('Epoch')\n",
    "    plt.ylabel('Loss')\n",
    "    plt.title('Model Loss')\n",
    "    plt.legend(loc='upper right')\n",
    "    plt.show()\n",
    "    #plt.savefig('output/traffic_sign_loss_accuracy.jpg', dpi=100)"
   ]
  },
  {
   "cell_type": "markdown",
   "metadata": {},
   "source": [
    "---\n",
    "\n",
    "## Step 3: Test a Model on New Images\n",
    "\n",
    "To give yourself more insight into how your model is working, download at least five pictures of German traffic signs from the web and use your model to predict the traffic sign type.\n",
    "\n",
    "You may find `signnames.csv` useful as it contains mappings from the class id (integer) to the actual sign name."
   ]
  },
  {
   "cell_type": "markdown",
   "metadata": {},
   "source": [
    "### Load and Output the Images"
   ]
  },
  {
   "cell_type": "code",
   "execution_count": 26,
   "metadata": {},
   "outputs": [
    {
     "data": {
      "image/png": "[encoded data removed]",
      "text/plain": [
       "<Figure size 432x288 with 1 Axes>"
      ]
     },
     "metadata": {},
     "output_type": "display_data"
    },
    {
     "data": {
      "image/png": "[encoded data removed]",
      "text/plain": [
       "<Figure size 432x288 with 1 Axes>"
      ]
     },
     "metadata": {},
     "output_type": "display_data"
    },
    {
     "data": {
      "image/png": "[encoded data removed]",
      "text/plain": [
       "<Figure size 432x288 with 1 Axes>"
      ]
     },
     "metadata": {},
     "output_type": "display_data"
    },
    {
     "data": {
      "image/png": "[encoded data removed]",
      "text/plain": [
       "<Figure size 432x288 with 1 Axes>"
      ]
     },
     "metadata": {},
     "output_type": "display_data"
    },
    {
     "data": {
      "image/png": "[encoded data removed]",
      "text/plain": [
       "<Figure size 432x288 with 1 Axes>"
      ]
     },
     "metadata": {},
     "output_type": "display_data"
    },
    {
     "data": {
      "image/png": "[encoded data removed]",
      "text/plain": [
       "<Figure size 432x288 with 1 Axes>"
      ]
     },
     "metadata": {},
     "output_type": "display_data"
    }
   ],
   "source": [
    "import matplotlib.image as mpimg\n",
    "\n",
    "imgs = ['stoppschild_cropped_resized.jpg', \\\n",
    "        'speed_limit_80_cropped_resized.jpg', \\\n",
    "        'wild_wechsel_cropped_resized.jpg', \\\n",
    "        'strassenbauarbeiten_cropped_resized.jpg', \\\n",
    "        'uberholverbot_cropped_resized.jpg', \\\n",
    "        'glatteis_gefahr_cropped_resized.jpg']\n",
    "\n",
    "\n",
    "new_input = []\n",
    "#for imgname in imgs:\n",
    "    #reading in an image\n",
    "#    image = mpimg.imread('download_data/' + imgname)\n",
    "    #printing out some stats and plotting\n",
    "#    print('This image is:', type(image), 'with dimensions:', image.shape)\n",
    "#    new_input.append(image)\n",
    "#    plt.imshow(image)\n",
    "#    plt.show()\n",
    "\n",
    "# Show the images, add to a list to process for classifying\n",
    "add_pics_data = []\n",
    "for i in imgs:\n",
    "    i = 'download_data/' + i\n",
    "    image = mpimg.imread(i)\n",
    "    plt.imshow(image)\n",
    "    plt.show()\n",
    "    \n",
    "    #a=0.1\n",
    "    #b=0.9\n",
    "    #image =  a + (((image - np.min(image))*(b - a))/(np.max(image) - np.min(image)))\n",
    "    \n",
    "    add_pics_data.append(image)\n"
   ]
  },
  {
   "cell_type": "code",
   "execution_count": 27,
   "metadata": {},
   "outputs": [
    {
     "name": "stdout",
     "output_type": "stream",
     "text": [
      "(6, 32, 32, 3)\n",
      "Preprocessing additional pictures...\n",
      "Finished preprocessing additional pictures.\n",
      "Processed additional pictures shape = (6, 32, 32, 3)\n"
     ]
    }
   ],
   "source": [
    "# Make into numpy array for processing\n",
    "add_pics_data = np.array(add_pics_data)\n",
    "\n",
    "# First, double-check the image shape to make sure it matches the original data's 32x32x3 size\n",
    "print(add_pics_data.shape)\n",
    "\n",
    "\n",
    "print('Preprocessing additional pictures...')\n",
    "\n",
    "# Iterate through grayscale\n",
    "#add_pics_data = preprocess(add_pics_data)\n",
    "#add_pics_data = add_pics_data[..., newaxis]\n",
    "\n",
    "# Normalize\n",
    "#add_pics_data = normalize(add_pics_data) \n",
    "\n",
    "\n",
    "print('Finished preprocessing additional pictures.')\n",
    "\n",
    "# Double-check that the image is changed to depth of 1\n",
    "new_image_shape = add_pics_data.shape\n",
    "print(\"Processed additional pictures shape =\", new_image_shape)\n"
   ]
  },
  {
   "cell_type": "markdown",
   "metadata": {},
   "source": [
    "### Predict the Sign Type for Each Image"
   ]
  },
  {
   "cell_type": "code",
   "execution_count": null,
   "metadata": {},
   "outputs": [],
   "source": [
    "from PIL import Image\n",
    "\n",
    "def resize_and_crop(img_path, modified_path, size, crop_type='top'):\n",
    "    \"\"\"\n",
    "    Resize and crop an image to fit the specified size.\n",
    "\n",
    "    args:\n",
    "        img_path: path for the image to resize.\n",
    "        modified_path: path to store the modified image.\n",
    "        size: `(width, height)` tuple.\n",
    "        crop_type: can be 'top', 'middle' or 'bottom', depending on this\n",
    "            value, the image will cropped getting the 'top/left', 'middle' or\n",
    "            'bottom/right' of the image to fit the size.\n",
    "    raises:\n",
    "        Exception: if can not open the file in img_path of there is problems\n",
    "            to save the image.\n",
    "        ValueError: if an invalid `crop_type` is provided.\n",
    "    \"\"\"\n",
    "    # If height is higher we resize vertically, if not we resize horizontally\n",
    "    img = Image.open(img_path)\n",
    "    # Get current and desired ratio for the images\n",
    "    img_ratio = img.size[0] / float(img.size[1])\n",
    "    ratio = size[0] / float(size[1])\n",
    "    #The image is scaled/cropped vertically or horizontally depending on the ratio\n",
    "    if ratio > img_ratio:\n",
    "        img = img.resize((size[0], round(size[0] * img.size[1] / img.size[0])),\n",
    "                Image.ANTIALIAS)\n",
    "        # Crop in the top, middle or bottom\n",
    "        if crop_type == 'top':\n",
    "            box = (0, 0, img.size[0], size[1])\n",
    "        elif crop_type == 'middle':\n",
    "            box = (0, round((img.size[1] - size[1]) / 2), img.size[0],\n",
    "                   round((img.size[1] + size[1]) / 2))\n",
    "        elif crop_type == 'bottom':\n",
    "            box = (0, img.size[1] - size[1], img.size[0], img.size[1])\n",
    "        else :\n",
    "            raise ValueError('ERROR: invalid value for crop_type')\n",
    "        img = img.crop(box)\n",
    "    elif ratio < img_ratio:\n",
    "        img = img.resize((round(size[1] * img.size[0] / img.size[1]), size[1]),\n",
    "                Image.ANTIALIAS)\n",
    "        # Crop in the top, middle or bottom\n",
    "        if crop_type == 'top':\n",
    "            box = (0, 0, size[0], img.size[1])\n",
    "        elif crop_type == 'middle':\n",
    "            box = (round((img.size[0] - size[0]) / 2), 0,\n",
    "                   round((img.size[0] + size[0]) / 2), img.size[1])\n",
    "        elif crop_type == 'bottom':\n",
    "            box = (img.size[0] - size[0], 0, img.size[0], img.size[1])\n",
    "        else :\n",
    "            raise ValueError('ERROR: invalid value for crop_type')\n",
    "        img = img.crop(box)\n",
    "    else :\n",
    "        img = img.resize((size[0], size[1]),\n",
    "                Image.ANTIALIAS)\n",
    "        # If the scale is the same, we do not need to crop\n",
    "    img.save(modified_path) \n",
    "    \n",
    "    \n",
    "    "
   ]
  },
  {
   "cell_type": "code",
   "execution_count": null,
   "metadata": {},
   "outputs": [],
   "source": [
    "#glatteis_gefahr_cropped.jpg\n",
    "#speed_limit_80_cropped.jpg\n",
    "#stoppschild_cropped.jpg\n",
    "#strassenbauarbeiten_cropped.jpg\n",
    "#uberholverbot_cropped.jpg\n",
    "#wild_wechsel_cropped.jpg\n",
    "\n",
    "img_path = 'download_data/speed_limit_80_cropped.jpg'\n",
    "modified_path = 'download_data/speed_limit_80_cropped_resized.jpg'\n",
    "\n",
    "size = [32,32, 3]\n",
    "resize_and_crop(img_path, modified_path, size, crop_type='top')\n",
    "image = mpimg.imread(modified_path)\n",
    "#printing out some stats and plotting\n",
    "print('This image is:', type(image), 'with dimensions:', image.shape)\n",
    "#new_input.append(image)\n",
    "plt.imshow(image)\n",
    "plt.show()"
   ]
  },
  {
   "cell_type": "code",
   "execution_count": 28,
   "metadata": {},
   "outputs": [
    {
     "name": "stdout",
     "output_type": "stream",
     "text": [
      "Processed additional pictures shape = (6, 32, 32, 3)\n",
      "[[ -1155.5458     358.80154   -637.55664   1127.0276   -3105.2341\n",
      "    -625.29834  -5597.715    -3804.5713   -2583.5398    -611.17303\n",
      "   -1788.2644   -4285.566    -3388.7693   -1563.7532    4124.8735\n",
      "    -289.56827  -3879.057     -949.26184  -4465.261    -4073.7864\n",
      "   -2727.961    -2832.7527   -1525.8575   -2666.7937   -4730.7446\n",
      "    -208.09354  -3552.0195   -6530.422    -1996.2373    1081.6599\n",
      "   -4014.0403   -4124.7573   -2229.0476   -7324.292    -5237.78\n",
      "   -5331.6743   -6029.9546   -8091.1875   -4774.0967   -8432.497\n",
      "   -6070.6147   -5635.0723   -5573.914  ]\n",
      " [ -2073.244     2358.9392    2015.5024    3426.6086   -3692.766\n",
      "    3453.8474     876.1043   -3300.8818   -4303.8726   -2270.27\n",
      "    -497.35916  -4068.646    -4412.72      -168.6156    -650.85864\n",
      "   -2241.79     -6089.753    -4572.0874   -8827.213    -5558.979\n",
      "   -5042.2295   -4405.7197   -8064.9824   -3252.5808   -8913.971\n",
      "   -3573.3464   -8746.064   -11074.996    -4768.3013   -2762.5344\n",
      "   -6191.18     -3860.5735   -2036.1644   -3255.335    -4203.7437\n",
      "   -3953.0186   -7342.045    -7728.726    -2321.2195   -8381.741\n",
      "   -5781.9956   -5369.5254   -1806.6671 ]\n",
      " [ -2933.8972   -1241.809    -2937.2637    -731.6359   -4759.786\n",
      "   -4327.0186   -4051.7634   -7404.6445   -5777.8       -881.11725\n",
      "   -2414.8203   -3819.2646    -419.26346   1463.005      237.50905\n",
      "   -1772.7706   -6198.296     1252.359    -5479.473    -2988.4485\n",
      "   -3421.257    -1911.0074    -639.0349   -1611.9546   -5341.196\n",
      "     247.2324   -2973.3708   -7609.737    -3069.256    -1024.6632\n",
      "   -2518.7864   -2764.5107   -1137.3683   -1765.0248    -352.26273\n",
      "   -1982.6897   -1921.8595   -4719.877      -79.14339  -3556.6892\n",
      "   -3718.6382   -2704.8242   -5171.9404 ]\n",
      " [ -5488.058    -3856.636    -2460.7583   -3138.3367   -4842.0576\n",
      "   -2334.445    -6293.433    -4961.1895   -6171.851    -3828.5425\n",
      "     143.11996  -1503.9192   -3207.5693   -3703.7986   -3706.8542\n",
      "   -6348.496    -7430.3906   -5013.4033    -801.8294     802.1744\n",
      "    -322.34442   -528.648     -998.85376    588.5399     865.56415\n",
      "    5196.356     -423.78226  -1444.3291   -2396.311      305.80017\n",
      "    -722.2807     861.21094  -6556.505    -3172.5923   -5078.839\n",
      "    -638.03265  -2334.8298   -4498.7744   -3054.5132   -5509.798\n",
      "   -3324.7678   -6527.1504   -6677.006  ]\n",
      " [-16660.252   -11080.077    -7068.186      944.6299  -16263.932\n",
      "   -1004.753    -4749.844    -4414.8384  -17943.715     4205.933\n",
      "    9004.783     1460.2576   -1195.1687     295.8149  -11529.174\n",
      "  -10916.538     -464.08612 -11639.0625   -8690.28      1228.1675\n",
      "   -1478.4937   -4082.4204  -16707.242     3078.5427  -10882.486\n",
      "   -1805.7083   -8370.725   -10554.472    -5811.3555   -8047.26\n",
      "   -3154.8733   -7577.1836   -7421.1694   -3738.5115   -3590.598\n",
      "    -662.8243  -15431.702   -10174.771    -8269.216   -15320.551\n",
      "   -4885.8833   -1672.254     3846.6597 ]\n",
      " [ -2511.352    -1337.1848   -2330.154    -2292.526    -3778.6228\n",
      "   -2631.5972   -2557.3552   -1170.6407   -4643.9907   -1103.7278\n",
      "   -2141.5337     637.2733   -1213.6786   -1921.8123   -5380.7173\n",
      "   -3373.852     -813.5121   -4222.944    -1874.2947     929.8296\n",
      "   -1757.3047      86.8091   -4948.516      143.0887     -61.76482\n",
      "   -1958.1823   -2312.019     -763.00543   -600.1898    -727.1996\n",
      "     383.92023  -1074.2992   -1593.23      -792.86804  -2945.8362\n",
      "    -771.3509   -4183.7905   -2662.3035   -4284.823    -1897.3325\n",
      "   -1073.6097    -746.2761    -331.78235]]\n"
     ]
    }
   ],
   "source": [
    "### Run the predictions here and use the model to output the prediction for each image.\n",
    "### Make sure to pre-process the images with the same pre-processing pipeline used earlier.\n",
    "### Feel free to use as many code cells as needed.\n",
    "\n",
    "new_image_shape = add_pics_data.shape\n",
    "print(\"Processed additional pictures shape =\", new_image_shape)\n",
    "\n",
    "\n",
    "with tf.Session() as sess:\n",
    "    saver.restore(sess, './lenet2')\n",
    "    new_pics_classes = sess.run(logits, feed_dict={x : add_pics_data, keep_prob : 1.0})\n",
    "    print(new_pics_classes)\n",
    "\n",
    "#new_predictions = sess.run(prediction, feed_dict={input_ph: new_input})\n",
    "\n",
    "#new_logits = LeNet(x, keep_prob)\n",
    "#new_logits = sess.run(        feed_dict={input_ph: new_input})\n",
    "\n",
    "# Calculate accuracy for test dataset\n",
    "#X_test = test['features']\n",
    "#y_test = test['labels']\n",
    "\n",
    "\n",
    "#image = image.astype('float32')\n",
    "\n",
    "#print('This image is:', type(image), 'with dimensions:', image.shape)\n",
    "#print(image)\n",
    "\n",
    "#classification = sess.run(tf.argmax(logits, 1), feed_dict={x: image})\n",
    "#classification = sess.run(tf.argmax(logits, 1), feed_dict={x: image, y: batch_y, keep_prob: 1.})\n",
    "\n",
    "#classification = sess.run(tf.argmax(pred, 1), feed_dict={x_unflattened: [img]})\n",
    "#print(classification)\n",
    "#print('NN predicted', classification[0])\n",
    "\n",
    "\n",
    "#result = sess.run(softmax, feed_dict = { x: X_new_signs})\n"
   ]
  },
  {
   "cell_type": "markdown",
   "metadata": {},
   "source": [
    "### Analyze Performance"
   ]
  },
  {
   "cell_type": "code",
   "execution_count": null,
   "metadata": {},
   "outputs": [],
   "source": [
    "### Calculate the accuracy for these 5 new images. \n",
    "### For example, if the model predicted 1 out of 5 signs correctly, it's 20% accurate on these new images."
   ]
  },
  {
   "cell_type": "markdown",
   "metadata": {},
   "source": [
    "### Output Top 5 Softmax Probabilities For Each Image Found on the Web"
   ]
  },
  {
   "cell_type": "markdown",
   "metadata": {},
   "source": [
    "For each of the new images, print out the model's softmax probabilities to show the **certainty** of the model's predictions (limit the output to the top 5 probabilities for each image). [`tf.nn.top_k`](https://www.tensorflow.org/versions/r0.12/api_docs/python/nn.html#top_k) could prove helpful here. \n",
    "\n",
    "The example below demonstrates how tf.nn.top_k can be used to find the top k predictions for each image.\n",
    "\n",
    "`tf.nn.top_k` will return the values and indices (class ids) of the top k predictions. So if k=3, for each sign, it'll return the 3 largest probabilities (out of a possible 43) and the correspoding class ids.\n",
    "\n",
    "Take this numpy array as an example. The values in the array represent predictions. The array contains softmax probabilities for five candidate images with six possible classes. `tf.nn.top_k` is used to choose the three classes with the highest probability:\n",
    "\n",
    "```\n",
    "# (5, 6) array\n",
    "a = np.array([[ 0.24879643,  0.07032244,  0.12641572,  0.34763842,  0.07893497,\n",
    "         0.12789202],\n",
    "       [ 0.28086119,  0.27569815,  0.08594638,  0.0178669 ,  0.18063401,\n",
    "         0.15899337],\n",
    "       [ 0.26076848,  0.23664738,  0.08020603,  0.07001922,  0.1134371 ,\n",
    "         0.23892179],\n",
    "       [ 0.11943333,  0.29198961,  0.02605103,  0.26234032,  0.1351348 ,\n",
    "         0.16505091],\n",
    "       [ 0.09561176,  0.34396535,  0.0643941 ,  0.16240774,  0.24206137,\n",
    "         0.09155967]])\n",
    "```\n",
    "\n",
    "Running it through `sess.run(tf.nn.top_k(tf.constant(a), k=3))` produces:\n",
    "\n",
    "```\n",
    "TopKV2(values=array([[ 0.34763842,  0.24879643,  0.12789202],\n",
    "       [ 0.28086119,  0.27569815,  0.18063401],\n",
    "       [ 0.26076848,  0.23892179,  0.23664738],\n",
    "       [ 0.29198961,  0.26234032,  0.16505091],\n",
    "       [ 0.34396535,  0.24206137,  0.16240774]]), indices=array([[3, 0, 5],\n",
    "       [0, 1, 4],\n",
    "       [0, 5, 1],\n",
    "       [1, 3, 5],\n",
    "       [1, 4, 3]], dtype=int32))\n",
    "```\n",
    "\n",
    "Looking just at the first row we get `[ 0.34763842,  0.24879643,  0.12789202]`, you can confirm these are the 3 largest probabilities in `a`. You'll also notice `[3, 0, 5]` are the corresponding indices."
   ]
  },
  {
   "cell_type": "code",
   "execution_count": null,
   "metadata": {},
   "outputs": [],
   "source": [
    "### Print out the top five softmax probabilities for the predictions on the German traffic sign images found on the web. \n",
    "### Feel free to use as many code cells as needed."
   ]
  },
  {
   "cell_type": "markdown",
   "metadata": {},
   "source": [
    "### Project Writeup\n",
    "\n",
    "Once you have completed the code implementation, document your results in a project writeup using this [template](https://github.com/udacity/CarND-Traffic-Sign-Classifier-Project/blob/master/writeup_template.md) as a guide. The writeup can be in a markdown or pdf file. "
   ]
  },
  {
   "cell_type": "markdown",
   "metadata": {},
   "source": [
    "> **Note**: Once you have completed all of the code implementations and successfully answered each question above, you may finalize your work by exporting the iPython Notebook as an HTML document. You can do this by using the menu above and navigating to  \\n\",\n",
    "    \"**File -> Download as -> HTML (.html)**. Include the finished document along with this notebook as your submission."
   ]
  },
  {
   "cell_type": "markdown",
   "metadata": {},
   "source": [
    "---\n",
    "\n",
    "## Step 4 (Optional): Visualize the Neural Network's State with Test Images\n",
    "\n",
    " This Section is not required to complete but acts as an additional excersise for understaning the output of a neural network's weights. While neural networks can be a great learning device they are often referred to as a black box. We can understand what the weights of a neural network look like better by plotting their feature maps. After successfully training your neural network you can see what it's feature maps look like by plotting the output of the network's weight layers in response to a test stimuli image. From these plotted feature maps, it's possible to see what characteristics of an image the network finds interesting. For a sign, maybe the inner network feature maps react with high activation to the sign's boundary outline or to the contrast in the sign's painted symbol.\n",
    "\n",
    " Provided for you below is the function code that allows you to get the visualization output of any tensorflow weight layer you want. The inputs to the function should be a stimuli image, one used during training or a new one you provided, and then the tensorflow variable name that represents the layer's state during the training process, for instance if you wanted to see what the [LeNet lab's](https://classroom.udacity.com/nanodegrees/nd013/parts/fbf77062-5703-404e-b60c-95b78b2f3f9e/modules/6df7ae49-c61c-4bb2-a23e-6527e69209ec/lessons/601ae704-1035-4287-8b11-e2c2716217ad/concepts/d4aca031-508f-4e0b-b493-e7b706120f81) feature maps looked like for it's second convolutional layer you could enter conv2 as the tf_activation variable.\n",
    "\n",
    "For an example of what feature map outputs look like, check out NVIDIA's results in their paper [End-to-End Deep Learning for Self-Driving Cars](https://devblogs.nvidia.com/parallelforall/deep-learning-self-driving-cars/) in the section Visualization of internal CNN State. NVIDIA was able to show that their network's inner weights had high activations to road boundary lines by comparing feature maps from an image with a clear path to one without. Try experimenting with a similar test to show that your trained network's weights are looking for interesting features, whether it's looking at differences in feature maps from images with or without a sign, or even what feature maps look like in a trained network vs a completely untrained one on the same sign image.\n",
    "\n",
    "<figure>\n",
    " <img src=\"visualize_cnn.png\" width=\"380\" alt=\"Combined Image\" />\n",
    " <figcaption>\n",
    " <p></p> \n",
    " <p style=\"text-align: center;\"> Your output should look something like this (above)</p> \n",
    " </figcaption>\n",
    "</figure>\n",
    " <p></p> \n"
   ]
  },
  {
   "cell_type": "code",
   "execution_count": null,
   "metadata": {},
   "outputs": [],
   "source": [
    "### Visualize your network's feature maps here.\n",
    "### Feel free to use as many code cells as needed.\n",
    "\n",
    "# image_input: the test image being fed into the network to produce the feature maps\n",
    "# tf_activation: should be a tf variable name used during your training procedure that represents the calculated state of a specific weight layer\n",
    "# activation_min/max: can be used to view the activation contrast in more detail, by default matplot sets min and max to the actual min and max values of the output\n",
    "# plt_num: used to plot out multiple different weight feature map sets on the same block, just extend the plt number for each new feature map entry\n",
    "\n",
    "def outputFeatureMap(image_input, tf_activation, activation_min=-1, activation_max=-1 ,plt_num=1):\n",
    "    # Here make sure to preprocess your image_input in a way your network expects\n",
    "    # with size, normalization, ect if needed\n",
    "    # image_input =\n",
    "    # Note: x should be the same name as your network's tensorflow data placeholder variable\n",
    "    # If you get an error tf_activation is not defined it may be having trouble accessing the variable from inside a function\n",
    "    activation = tf_activation.eval(session=sess,feed_dict={x : image_input})\n",
    "    featuremaps = activation.shape[3]\n",
    "    plt.figure(plt_num, figsize=(15,15))\n",
    "    for featuremap in range(featuremaps):\n",
    "        plt.subplot(6,8, featuremap+1) # sets the number of feature maps to show on each row and column\n",
    "        plt.title('FeatureMap ' + str(featuremap)) # displays the feature map number\n",
    "        if activation_min != -1 & activation_max != -1:\n",
    "            plt.imshow(activation[0,:,:, featuremap], interpolation=\"nearest\", vmin =activation_min, vmax=activation_max, cmap=\"gray\")\n",
    "        elif activation_max != -1:\n",
    "            plt.imshow(activation[0,:,:, featuremap], interpolation=\"nearest\", vmax=activation_max, cmap=\"gray\")\n",
    "        elif activation_min !=-1:\n",
    "            plt.imshow(activation[0,:,:, featuremap], interpolation=\"nearest\", vmin=activation_min, cmap=\"gray\")\n",
    "        else:\n",
    "            plt.imshow(activation[0,:,:, featuremap], interpolation=\"nearest\", cmap=\"gray\")"
   ]
  }
 ],
 "metadata": {
  "anaconda-cloud": {},
  "kernelspec": {
   "display_name": "Python 3",
   "language": "python",
   "name": "python3"
  },
  "language_info": {
   "codemirror_mode": {
    "name": "ipython",
    "version": 3
   },
   "file_extension": ".py",
   "mimetype": "text/x-python",
   "name": "python",
   "nbconvert_exporter": "python",
   "pygments_lexer": "ipython3",
   "version": "3.5.2"
  },
  "widgets": {
   "state": {},
   "version": "1.1.2"
  }
 },
 "nbformat": 4,
 "nbformat_minor": 1
}
