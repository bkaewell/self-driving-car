{
 "cells": [
  {
   "cell_type": "markdown",
   "metadata": {},
   "source": [
    "# Self-Driving Car Engineer Nanodegree\n",
    "\n",
    "## Deep Learning\n",
    "\n",
    "## Project: Build a Traffic Sign Recognition Classifier\n",
    "\n",
    "In this notebook, a template is provided for you to implement your functionality in stages, which is required to successfully complete this project. If additional code is required that cannot be included in the notebook, be sure that the Python code is successfully imported and included in your submission if necessary. \n",
    "\n",
    "> **Note**: Once you have completed all of the code implementations, you need to finalize your work by exporting the iPython Notebook as an HTML document. Before exporting the notebook to html, all of the code cells need to have been run so that reviewers can see the final implementation and output. You can then export the notebook by using the menu above and navigating to  \\n\",\n",
    "    \"**File -> Download as -> HTML (.html)**. Include the finished document along with this notebook as your submission. \n",
    "\n",
    "In addition to implementing code, there is a writeup to complete. The writeup should be completed in a separate file, which can be either a markdown file or a pdf document. There is a [write up template](https://github.com/udacity/CarND-Traffic-Sign-Classifier-Project/blob/master/writeup_template.md) that can be used to guide the writing process. Completing the code template and writeup template will cover all of the [rubric points](https://review.udacity.com/#!/rubrics/481/view) for this project.\n",
    "\n",
    "The [rubric](https://review.udacity.com/#!/rubrics/481/view) contains \"Stand Out Suggestions\" for enhancing the project beyond the minimum requirements. The stand out suggestions are optional. If you decide to pursue the \"stand out suggestions\", you can include the code in this Ipython notebook and also discuss the results in the writeup file.\n",
    "\n",
    "\n",
    ">**Note:** Code and Markdown cells can be executed using the **Shift + Enter** keyboard shortcut. In addition, Markdown cells can be edited by typically double-clicking the cell to enter edit mode."
   ]
  },
  {
   "cell_type": "markdown",
   "metadata": {},
   "source": [
    "---\n",
    "## Step 0: Load The Data"
   ]
  },
  {
   "cell_type": "code",
   "execution_count": 1,
   "metadata": {},
   "outputs": [],
   "source": [
    "# Load pickled data:\n",
    "import pickle\n",
    "\n",
    "# Read in the training and testing data:\n",
    "training_file = r\"./train.p\"\n",
    "validation_file = r\"./valid.p\"\n",
    "testing_file = r\"./test.p\"\n",
    "\n",
    "with open(training_file, mode='rb') as f:\n",
    "    train = pickle.load(f)\n",
    "with open(validation_file, mode='rb') as f:\n",
    "    valid = pickle.load(f)\n",
    "with open(testing_file, mode='rb') as f:\n",
    "    test = pickle.load(f)\n",
    "\n",
    "# Store the data sets:\n",
    "X_train = train['features']\n",
    "y_train = train['labels']\n",
    "\n",
    "X_valid = valid['features']\n",
    "y_valid = valid['labels']\n",
    "\n",
    "X_test = test['features']\n",
    "y_test = test['labels']"
   ]
  },
  {
   "cell_type": "markdown",
   "metadata": {},
   "source": [
    "---\n",
    "\n",
    "## Step 1: Dataset Summary & Exploration\n",
    "\n",
    "The pickled data is a dictionary with 4 key/value pairs:\n",
    "\n",
    "- `'features'` is a 4D array containing raw pixel data of the traffic sign images, (num examples, width, height, channels).\n",
    "- `'labels'` is a 1D array containing the label/class id of the traffic sign. The file `signnames.csv` contains id -> name mappings for each id.\n",
    "- `'sizes'` is a list containing tuples, (width, height) representing the original width and height the image.\n",
    "- `'coords'` is a list containing tuples, (x1, y1, x2, y2) representing coordinates of a bounding box around the sign in the image. **THESE COORDINATES ASSUME THE ORIGINAL IMAGE. THE PICKLED DATA CONTAINS RESIZED VERSIONS (32 by 32) OF THESE IMAGES**\n",
    "\n",
    "Complete the basic data summary below. Use python, numpy and/or pandas methods to calculate the data summary rather than hard coding the results. For example, the [pandas shape method](http://pandas.pydata.org/pandas-docs/stable/generated/pandas.DataFrame.shape.html) might be useful for calculating some of the summary results. "
   ]
  },
  {
   "cell_type": "markdown",
   "metadata": {},
   "source": [
    "### Provide a Basic Summary of the Data Set Using Python, Numpy and/or Pandas"
   ]
  },
  {
   "cell_type": "code",
   "execution_count": 2,
   "metadata": {},
   "outputs": [
    {
     "name": "stdout",
     "output_type": "stream",
     "text": [
      "Number of training examples = 34799\n",
      "Number of validation samples = 4410\n",
      "Number of testing examples = 12630\n",
      "Image data shape = (32, 32, 3)\n",
      "Number of classes = 43\n"
     ]
    }
   ],
   "source": [
    "# Number of training examples\n",
    "n_train = len(X_train)\n",
    "\n",
    "# Number of validation examples\n",
    "n_validation = len(X_valid)\n",
    "\n",
    "# Number of testing examples\n",
    "n_test = len(X_test)\n",
    "\n",
    "# Shape of a traffic sign image\n",
    "image_shape = X_train[0].shape\n",
    "\n",
    "# How many unique classes/labels are there in the dataset?\n",
    "n_classes = len(set(y_train))\n",
    "\n",
    "# Dropout, probability to keep units\n",
    "dropout = 0.75\n",
    "\n",
    "print(\"Number of training examples =\", n_train)\n",
    "print(\"Number of validation samples =\", n_validation)\n",
    "print(\"Number of testing examples =\", n_test)\n",
    "print(\"Image data shape =\", image_shape)\n",
    "print(\"Number of classes =\", n_classes)\n"
   ]
  },
  {
   "cell_type": "markdown",
   "metadata": {},
   "source": [
    "### Include an exploratory visualization of the dataset"
   ]
  },
  {
   "cell_type": "markdown",
   "metadata": {},
   "source": [
    "Visualize the German Traffic Signs Dataset using the pickled file(s). This is open ended, suggestions include: plotting traffic sign images, plotting the count of each sign, etc. \n",
    "\n",
    "The [Matplotlib](http://matplotlib.org/) [examples](http://matplotlib.org/examples/index.html) and [gallery](http://matplotlib.org/gallery.html) pages are a great resource for doing visualizations in Python.\n",
    "\n",
    "**NOTE:** It's recommended you start with something simple first. If you wish to do more, come back to it after you've completed the rest of the sections. It can be interesting to look at the distribution of classes in the training, validation and test set. Is the distribution the same? Are there more examples of some classes than others?"
   ]
  },
  {
   "cell_type": "code",
   "execution_count": 3,
   "metadata": {
    "scrolled": true
   },
   "outputs": [
    {
     "data": {
      "text/plain": [
       "[]"
      ]
     },
     "execution_count": 3,
     "metadata": {},
     "output_type": "execute_result"
    },
    {
     "data": {
      "image/png": "[encoded data removed]",
      "text/plain": [
       "<Figure size 432x288 with 1 Axes>"
      ]
     },
     "metadata": {},
     "output_type": "display_data"
    }
   ],
   "source": [
    "### Data exploration visualization:\n",
    "import random\n",
    "import numpy as np\n",
    "import pandas as pd\n",
    "import matplotlib.pyplot as plt\n",
    "%matplotlib inline\n",
    "\n",
    "# Load helper data from csv file:\n",
    "df = pd.read_csv('./signnames.csv')\n",
    "#print(df)\n",
    "\n",
    "# Histogram of the data:\n",
    "plt.hist(y_train, bins=n_classes, facecolor='green', alpha=0.75)\n",
    "plt.xlabel('Class Id')\n",
    "plt.ylabel('Frequency')\n",
    "plt.title('Histogram of the German Traffic Sign Data Set')\n",
    "plt.grid(True)\n",
    "plt.xticks(np.arange(0, n_classes, 5))\n",
    "plt.plot()\n",
    "#plt.savefig('output/traffic_sign_histogram.jpg', dpi=100)"
   ]
  },
  {
   "cell_type": "code",
   "execution_count": 4,
   "metadata": {},
   "outputs": [
    {
     "data": {
      "image/png": "[encoded data removed]",
      "text/plain": [
       "<Figure size 500x500 with 4 Axes>"
      ]
     },
     "metadata": {},
     "output_type": "display_data"
    }
   ],
   "source": [
    "# Example images from the training data:\n",
    "fig, ax = plt.subplots(figsize=(5, 5), dpi=100, facecolor='w', edgecolor='k')\n",
    "\n",
    "for i in range(4):\n",
    "    index = random.randint(0, n_train)\n",
    "    image = X_train[index]\n",
    "    plt.subplot(2,2,i+1)\n",
    "    plt.axis('off')\n",
    "    tmp = plt.imshow(image)\n",
    "    #print(type(image))\n",
    "tmp = plt.suptitle('Example Images of the German Traffic Sign Data Set')\n",
    "#plt.savefig('output/traffic_sign_examples.jpg', dpi=100)"
   ]
  },
  {
   "cell_type": "markdown",
   "metadata": {},
   "source": [
    "----\n",
    "\n",
    "## Step 2: Design and Test a Model Architecture\n",
    "\n",
    "Design and implement a deep learning model that learns to recognize traffic signs. Train and test your model on the [German Traffic Sign Dataset](http://benchmark.ini.rub.de/?section=gtsrb&subsection=dataset).\n",
    "\n",
    "The LeNet-5 implementation shown in the [classroom](https://classroom.udacity.com/nanodegrees/nd013/parts/fbf77062-5703-404e-b60c-95b78b2f3f9e/modules/6df7ae49-c61c-4bb2-a23e-6527e69209ec/lessons/601ae704-1035-4287-8b11-e2c2716217ad/concepts/d4aca031-508f-4e0b-b493-e7b706120f81) at the end of the CNN lesson is a solid starting point. You'll have to change the number of classes and possibly the preprocessing, but aside from that it's plug and play! \n",
    "\n",
    "With the LeNet-5 solution from the lecture, you should expect a validation set accuracy of about 0.89. To meet specifications, the validation set accuracy will need to be at least 0.93. It is possible to get an even higher accuracy, but 0.93 is the minimum for a successful project submission. \n",
    "\n",
    "There are various aspects to consider when thinking about this problem:\n",
    "\n",
    "- Neural network architecture (is the network over or underfitting?)\n",
    "- Play around preprocessing techniques (normalization, rgb to grayscale, etc)\n",
    "- Number of examples per label (some have more than others).\n",
    "- Generate fake data.\n",
    "\n",
    "Here is an example of a [published baseline model on this problem](http://yann.lecun.com/exdb/publis/pdf/sermanet-ijcnn-11.pdf). It's not required to be familiar with the approach used in the paper but, it's good practice to try to read papers like these."
   ]
  },
  {
   "cell_type": "markdown",
   "metadata": {},
   "source": [
    "### Pre-process the Data Set (normalization, grayscale, etc.)"
   ]
  },
  {
   "cell_type": "markdown",
   "metadata": {},
   "source": [
    "Minimally, the image data should be normalized so that the data has mean zero and equal variance. For image data, `(pixel - 128)/ 128` is a quick way to approximately normalize the data and can be used in this project. \n",
    "\n",
    "Other pre-processing steps are optional. You can try different techniques to see if it improves performance. \n",
    "\n",
    "Use the code cell (or multiple code cells, if necessary) to implement the first step of your project."
   ]
  },
  {
   "cell_type": "code",
   "execution_count": 5,
   "metadata": {},
   "outputs": [
    {
     "name": "stdout",
     "output_type": "stream",
     "text": [
      "Finished preprocessing the data set.\n",
      "\n"
     ]
    },
    {
     "data": {
      "image/png": "[encoded data removed]",
      "text/plain": [
       "<Figure size 432x288 with 2 Axes>"
      ]
     },
     "metadata": {},
     "output_type": "display_data"
    }
   ],
   "source": [
    "### Preprocess the data:\n",
    "import cv2\n",
    "from sklearn.utils import shuffle\n",
    "\n",
    "# To-do, cv2 not supported on udacity-carnd AMI on AWS..\n",
    "\n",
    "# Upsample minority classes:\n",
    "#X_train = np.array(train['features'])\n",
    "#y_train = np.array(train['labels'])\n",
    "#count_per_class = np.bincount(y_train)\n",
    "#avg_count = count_per_class.mean()\n",
    "#print(count_per_class)\n",
    "#print(avg_count)\n",
    "#print(\"\")\n",
    "#rotations = [-10, -5, 5, 10]\n",
    "\n",
    "# Based on the training data set, defining minority \n",
    "# class as any class less than 50% of the mean\n",
    "#for i in range(len(count_per_class)):\n",
    "    # If below the mean\n",
    "#    if count_per_class[i] < avg_count:\n",
    "#        delta = avg_count - count_per_class[i]\n",
    "#        ratio = delta // count_per_class[i]\n",
    "        #If below the mean by factor of 2 or more\n",
    "#        if ratio >= 1:\n",
    "#            #print(\"   \", delta, ratio)\n",
    "#            new_features = []\n",
    "#            new_labels = []\n",
    "#            mask = np.where(y_train == i)\n",
    "#            for j in range(int(ratio)):\n",
    "#                for image in X_train[mask]:\n",
    "#                    width, height, c = image.shape\n",
    "#                    M = cv2.getRotationMatrix2D((width, height), rotations[j], 1)\n",
    "#                    dst = cv2.warpAffine(image, M, (width, height))\n",
    "#                    new_features.append(dst)\n",
    "#                    new_labels.append(i)\n",
    "#            X_train = np.append(X_train, new_features, axis=0)\n",
    "#            y_train = np.append(y_train, new_labels, axis=0)    \n",
    "            \n",
    "# Histogram of the data post up-sampling\n",
    "#plt.hist(y_train, bins=n_classes, facecolor='green', alpha=0.75)\n",
    "#plt.xlabel('Class Id')\n",
    "#plt.ylabel('Frequency')\n",
    "#plt.title('Histogram of the German Traffic Sign Dataset')\n",
    "#plt.grid(True)\n",
    "#plt.xticks(np.arange(0, n_classes, 5))\n",
    "#plt.plot()            \n",
    "\n",
    "\n",
    "\n",
    "# Shuffle the training data:\n",
    "X_train, y_train = shuffle(X_train, y_train) \n",
    "\n",
    "# Transforms features by scaling each feature to a given range.\n",
    "# This estimator scales and translates each feature individually such \n",
    "# that it is in the given range on the training set, i.e. between zero and one.\n",
    "# Normalize the image data with Min-Max scaling to a range of [0.1, 0.9]\n",
    "# Keep the variance small\n",
    "a = 0.1\n",
    "b = 0.9\n",
    "X_train_norm =  a + (((X_train - np.min(X_train))*(b - a))/(np.max(X_train) - np.min(X_train)))\n",
    "X_test_norm =  a + (((X_test - np.min(X_test))*(b - a))/(np.max(X_test) - np.min(X_test)))\n",
    "\n",
    "# Plot Un-normalized vs Normalized:\n",
    "fig=plt.figure()\n",
    "index = random.randint(0, n_train)\n",
    "image = X_train[index]\n",
    "plt.subplot(1,2,1) #un-normalized\n",
    "plt.axis('off')\n",
    "plt.title('Original Image')\n",
    "tmp = plt.imshow(image)\n",
    "\n",
    "image = X_train_norm[index]\n",
    "plt.subplot(1,2,2) #normalized\n",
    "plt.axis('off')\n",
    "plt.title('Normalized w/ Min-Max Scaling')\n",
    "tmp = plt.imshow(image)\n",
    "#plt.savefig('output/traffic_sign_normalized.jpg', dpi=100)\n",
    "\n",
    "print(\"Finished preprocessing the data set.\")\n",
    "print(\"\")"
   ]
  },
  {
   "cell_type": "markdown",
   "metadata": {},
   "source": [
    "### Model Architecture"
   ]
  },
  {
   "cell_type": "code",
   "execution_count": 6,
   "metadata": {},
   "outputs": [],
   "source": [
    "from tensorflow.contrib.layers import flatten\n",
    "import tensorflow as tf\n",
    "\n",
    "EPOCHS = 100\n",
    "BATCH_SIZE = 100\n",
    "\n",
    "def LeNet(x, dropout):\n",
    "    # Hyper parameters:\n",
    "    mu = 0\n",
    "    sigma = 0.1\n",
    "    \n",
    "    # Convolutional (Layer 1). \n",
    "    # Input = 32x32x3. Output = 28x28x6.\n",
    "    conv1_W = tf.Variable(tf.truncated_normal(shape=(5, 5, 3, 6), mean = mu, stddev = sigma))\n",
    "    conv1_b = tf.Variable(tf.zeros(6))\n",
    "    conv1   = tf.nn.conv2d(x, conv1_W, strides=[1, 1, 1, 1], padding='VALID') + conv1_b\n",
    "\n",
    "    # Activation w/ dropout.\n",
    "    conv1 = tf.nn.relu(conv1)\n",
    "    #conv1 = tf.nn.dropout(conv1, dropout)\n",
    "\n",
    "    # Max Pooling. \n",
    "    # Input = 28x28x6. Output = 14x14x6.\n",
    "    conv1 = tf.nn.max_pool(conv1, ksize=[1, 2, 2, 1], strides=[1, 2, 2, 1], padding='VALID')\n",
    "\n",
    "    # Convolutional (Layer 2). \n",
    "    # Output = 10x10x16.\n",
    "    conv2_W = tf.Variable(tf.truncated_normal(shape=(5, 5, 6, 16), mean = mu, stddev = sigma))\n",
    "    conv2_b = tf.Variable(tf.zeros(16))\n",
    "    conv2   = tf.nn.conv2d(conv1, conv2_W, strides=[1, 1, 1, 1], padding='VALID') + conv2_b\n",
    "    \n",
    "    # Activation w/ dropout.\n",
    "    conv2 = tf.nn.relu(conv2)\n",
    "    #conv2 = tf.nn.dropout(conv2, dropout)\n",
    "\n",
    "    # Max Pooling. \n",
    "    # Input = 10x10x16. Output = 5x5x16.\n",
    "    conv2 = tf.nn.max_pool(conv2, ksize=[1, 2, 2, 1], strides=[1, 2, 2, 1], padding='VALID')\n",
    "\n",
    "    # Flatten. \n",
    "    # Input = 5x5x16. Output = 400.\n",
    "    fc0   = flatten(conv2)\n",
    "    \n",
    "    # Fully Connected (Layer 3). \n",
    "    # Input = 400. Output = 120.\n",
    "    fc1_W = tf.Variable(tf.truncated_normal(shape=(400, 120), mean = mu, stddev = sigma))\n",
    "    fc1_b = tf.Variable(tf.zeros(120))\n",
    "    fc1   = tf.matmul(fc0, fc1_W) + fc1_b\n",
    "    \n",
    "    # Activation w/ dropout.\n",
    "    fc1    = tf.nn.relu(fc1)\n",
    "    fc1    = tf.nn.dropout(fc1, dropout)\n",
    "\n",
    "    # Fully Connected (Layer 4). \n",
    "    # Input = 120. Output = 84.\n",
    "    fc2_W  = tf.Variable(tf.truncated_normal(shape=(120, 84), mean = mu, stddev = sigma))\n",
    "    fc2_b  = tf.Variable(tf.zeros(84))\n",
    "    fc2    = tf.matmul(fc1, fc2_W) + fc2_b\n",
    "    \n",
    "    # Activation w/ dropout.\n",
    "    fc2    = tf.nn.relu(fc2)\n",
    "    fc2    = tf.nn.dropout(fc2, dropout)\n",
    "\n",
    "    # Fully Connected (Layer 5). \n",
    "    # Input = 84. Output = n_classes = 43\n",
    "    fc3_W  = tf.Variable(tf.truncated_normal(shape=(84, n_classes), mean = mu, stddev = sigma))\n",
    "    fc3_b  = tf.Variable(tf.zeros(n_classes))\n",
    "    logits = tf.matmul(fc2, fc3_W) + fc3_b\n",
    "    \n",
    "    return logits"
   ]
  },
  {
   "cell_type": "markdown",
   "metadata": {},
   "source": [
    "### Train, Validate and Test the Model"
   ]
  },
  {
   "cell_type": "markdown",
   "metadata": {},
   "source": [
    "A validation set can be used to assess how well the model is performing. A low accuracy on the training and validation\n",
    "sets imply underfitting. A high accuracy on the training set but low accuracy on the validation set implies overfitting."
   ]
  },
  {
   "cell_type": "code",
   "execution_count": 7,
   "metadata": {},
   "outputs": [],
   "source": [
    "### Train your model here.\n",
    "### Calculate and report the accuracy on the training and validation set.\n",
    "### Once a final model architecture is selected, \n",
    "### the accuracy on the test set should be calculated and reported as well.\n",
    "### Feel free to use as many code cells as needed.\n",
    "\n",
    "# Features & labels:\n",
    "# x is a placeholder for a batch of input images\n",
    "# y is a placeholder for a batch of output labels\n",
    "\n",
    "#new_image_shape = add_pics_data.shape\n",
    "x = tf.placeholder(tf.float32, (None, 32, 32, 3))\n",
    "#x = tf.placeholder(tf.float32, shape=[None, 32, 32, 3])\n",
    "y = tf.placeholder(tf.int32, (None))\n",
    "one_hot_y = tf.one_hot(y, n_classes)\n",
    "\n",
    "keep_prob = tf.placeholder(tf.float32)"
   ]
  },
  {
   "cell_type": "code",
   "execution_count": 8,
   "metadata": {},
   "outputs": [],
   "source": [
    "# Training pipeline:\n",
    "rate = 0.001\n",
    "\n",
    "logits = LeNet(x, keep_prob)\n",
    "cross_entropy = tf.nn.softmax_cross_entropy_with_logits(labels=one_hot_y, logits=logits)\n",
    "loss_operation = tf.reduce_mean(cross_entropy)\n",
    "optimizer = tf.train.AdamOptimizer(learning_rate = rate)\n",
    "training_operation = optimizer.minimize(loss_operation)"
   ]
  },
  {
   "cell_type": "code",
   "execution_count": 9,
   "metadata": {},
   "outputs": [],
   "source": [
    "# Model evaluation:\n",
    "# Evaluate how well the loss and accuracy of the model for a given dataset\n",
    "correct_prediction = tf.equal(tf.argmax(logits, 1), tf.argmax(one_hot_y, 1))\n",
    "accuracy_operation = tf.reduce_mean(tf.cast(correct_prediction, tf.float32))\n",
    "saver = tf.train.Saver()\n",
    "\n",
    "def evaluate(X_data, y_data):\n",
    "    num_examples = len(X_data)\n",
    "    total_accuracy = 0\n",
    "    sess = tf.get_default_session()\n",
    "    for offset in range(0, num_examples, BATCH_SIZE):\n",
    "        batch_x, batch_y = X_data[offset:offset+BATCH_SIZE], y_data[offset:offset+BATCH_SIZE]\n",
    "        accuracy = sess.run(accuracy_operation, feed_dict={x: batch_x, y: batch_y, keep_prob: 1.0})\n",
    "        total_accuracy += (accuracy * len(batch_x))\n",
    "    return total_accuracy / num_examples"
   ]
  },
  {
   "cell_type": "code",
   "execution_count": 10,
   "metadata": {},
   "outputs": [
    {
     "name": "stdout",
     "output_type": "stream",
     "text": [
      "Training...\n",
      "\n",
      "EPOCH 1 ...\n",
      "Validation Avg Loss =     2.0218\n",
      "Validation Accuracy = 0.661\n",
      "\n",
      "EPOCH 2 ...\n",
      "Validation Avg Loss =     0.6054\n",
      "Validation Accuracy = 0.837\n",
      "\n",
      "EPOCH 3 ...\n",
      "Validation Avg Loss =     0.3383\n",
      "Validation Accuracy = 0.858\n",
      "\n",
      "EPOCH 4 ...\n",
      "Validation Avg Loss =     0.2246\n",
      "Validation Accuracy = 0.868\n",
      "\n",
      "EPOCH 5 ...\n",
      "Validation Avg Loss =     0.1679\n",
      "Validation Accuracy = 0.890\n",
      "\n",
      "EPOCH 6 ...\n",
      "Validation Avg Loss =     0.1307\n",
      "Validation Accuracy = 0.903\n",
      "\n",
      "EPOCH 7 ...\n",
      "Validation Avg Loss =     0.1038\n",
      "Validation Accuracy = 0.914\n",
      "\n",
      "EPOCH 8 ...\n",
      "Validation Avg Loss =     0.0858\n",
      "Validation Accuracy = 0.907\n",
      "\n",
      "EPOCH 9 ...\n",
      "Validation Avg Loss =     0.0706\n",
      "Validation Accuracy = 0.922\n",
      "\n",
      "EPOCH 10 ...\n",
      "Validation Avg Loss =     0.0609\n",
      "Validation Accuracy = 0.914\n",
      "\n",
      "EPOCH 11 ...\n",
      "Validation Avg Loss =     0.0513\n",
      "Validation Accuracy = 0.919\n",
      "\n",
      "EPOCH 12 ...\n",
      "Validation Avg Loss =     0.0459\n",
      "Validation Accuracy = 0.927\n",
      "\n",
      "EPOCH 13 ...\n",
      "Validation Avg Loss =     0.0407\n",
      "Validation Accuracy = 0.924\n",
      "\n",
      "EPOCH 14 ...\n",
      "Validation Avg Loss =     0.0352\n",
      "Validation Accuracy = 0.924\n",
      "\n",
      "EPOCH 15 ...\n",
      "Validation Avg Loss =     0.0322\n",
      "Validation Accuracy = 0.920\n",
      "\n",
      "EPOCH 16 ...\n",
      "Validation Avg Loss =     0.0296\n",
      "Validation Accuracy = 0.933\n",
      "\n",
      "EPOCH 17 ...\n",
      "Validation Avg Loss =     0.0250\n",
      "Validation Accuracy = 0.926\n",
      "\n",
      "EPOCH 18 ...\n",
      "Validation Avg Loss =     0.0236\n",
      "Validation Accuracy = 0.932\n",
      "\n",
      "EPOCH 19 ...\n",
      "Validation Avg Loss =     0.0209\n",
      "Validation Accuracy = 0.922\n",
      "\n",
      "EPOCH 20 ...\n",
      "Validation Avg Loss =     0.0176\n",
      "Validation Accuracy = 0.928\n",
      "\n",
      "EPOCH 21 ...\n",
      "Validation Avg Loss =     0.0156\n",
      "Validation Accuracy = 0.935\n",
      "\n",
      "EPOCH 22 ...\n",
      "Validation Avg Loss =     0.0144\n",
      "Validation Accuracy = 0.933\n",
      "\n",
      "EPOCH 23 ...\n",
      "Validation Avg Loss =     0.0136\n",
      "Validation Accuracy = 0.939\n",
      "\n",
      "EPOCH 24 ...\n",
      "Validation Avg Loss =     0.0129\n",
      "Validation Accuracy = 0.939\n",
      "\n",
      "EPOCH 25 ...\n",
      "Validation Avg Loss =     0.0118\n",
      "Validation Accuracy = 0.932\n",
      "\n",
      "EPOCH 26 ...\n",
      "Validation Avg Loss =     0.0108\n",
      "Validation Accuracy = 0.934\n",
      "\n",
      "EPOCH 27 ...\n",
      "Validation Avg Loss =     0.0101\n",
      "Validation Accuracy = 0.932\n",
      "\n",
      "EPOCH 28 ...\n",
      "Validation Avg Loss =     0.0089\n",
      "Validation Accuracy = 0.939\n",
      "\n",
      "EPOCH 29 ...\n",
      "Validation Avg Loss =     0.0098\n",
      "Validation Accuracy = 0.943\n",
      "\n",
      "EPOCH 30 ...\n",
      "Validation Avg Loss =     0.0087\n",
      "Validation Accuracy = 0.934\n",
      "\n",
      "EPOCH 31 ...\n",
      "Validation Avg Loss =     0.0072\n",
      "Validation Accuracy = 0.934\n",
      "\n",
      "EPOCH 32 ...\n",
      "Validation Avg Loss =     0.0067\n",
      "Validation Accuracy = 0.937\n",
      "\n",
      "EPOCH 33 ...\n",
      "Validation Avg Loss =     0.0064\n",
      "Validation Accuracy = 0.944\n",
      "\n",
      "EPOCH 34 ...\n",
      "Validation Avg Loss =     0.0062\n",
      "Validation Accuracy = 0.937\n",
      "\n",
      "EPOCH 35 ...\n",
      "Validation Avg Loss =     0.0056\n",
      "Validation Accuracy = 0.942\n",
      "\n",
      "EPOCH 36 ...\n",
      "Validation Avg Loss =     0.0065\n",
      "Validation Accuracy = 0.937\n",
      "\n",
      "EPOCH 37 ...\n",
      "Validation Avg Loss =     0.0057\n",
      "Validation Accuracy = 0.945\n",
      "\n",
      "EPOCH 38 ...\n",
      "Validation Avg Loss =     0.0054\n",
      "Validation Accuracy = 0.932\n",
      "\n",
      "EPOCH 39 ...\n",
      "Validation Avg Loss =     0.0046\n",
      "Validation Accuracy = 0.937\n",
      "\n",
      "EPOCH 40 ...\n",
      "Validation Avg Loss =     0.0047\n",
      "Validation Accuracy = 0.936\n",
      "\n",
      "EPOCH 41 ...\n",
      "Validation Avg Loss =     0.0042\n",
      "Validation Accuracy = 0.945\n",
      "\n",
      "EPOCH 42 ...\n",
      "Validation Avg Loss =     0.0038\n",
      "Validation Accuracy = 0.939\n",
      "\n",
      "EPOCH 43 ...\n",
      "Validation Avg Loss =     0.0045\n",
      "Validation Accuracy = 0.938\n",
      "\n",
      "EPOCH 44 ...\n",
      "Validation Avg Loss =     0.0036\n",
      "Validation Accuracy = 0.938\n",
      "\n",
      "EPOCH 45 ...\n",
      "Validation Avg Loss =     0.0035\n",
      "Validation Accuracy = 0.937\n",
      "\n",
      "EPOCH 46 ...\n",
      "Validation Avg Loss =     0.0040\n",
      "Validation Accuracy = 0.933\n",
      "\n",
      "EPOCH 47 ...\n",
      "Validation Avg Loss =     0.0033\n",
      "Validation Accuracy = 0.941\n",
      "\n",
      "EPOCH 48 ...\n",
      "Validation Avg Loss =     0.0030\n",
      "Validation Accuracy = 0.931\n",
      "\n",
      "EPOCH 49 ...\n",
      "Validation Avg Loss =     0.0033\n",
      "Validation Accuracy = 0.943\n",
      "\n",
      "EPOCH 50 ...\n",
      "Validation Avg Loss =     0.0037\n",
      "Validation Accuracy = 0.939\n",
      "\n",
      "Model saved\n"
     ]
    }
   ],
   "source": [
    "with tf.Session() as sess:\n",
    "    sess.run(tf.global_variables_initializer())\n",
    "    num_examples = len(X_train_norm)\n",
    "    validation_accuracy_list = []\n",
    "    avg_loss_list = []\n",
    "    num_iterations = num_examples / BATCH_SIZE\n",
    "    \n",
    "    print(\"Training...\")\n",
    "    print()\n",
    "    for i in range(EPOCHS):\n",
    "        total_loss = 0\n",
    "        X_train_norm, y_train = shuffle(X_train_norm, y_train)\n",
    "        for offset in range(0, num_examples, BATCH_SIZE):\n",
    "            end = offset + BATCH_SIZE\n",
    "            batch_x, batch_y = X_train_norm[offset:end], y_train[offset:end]\n",
    "            \n",
    "            loss = sess.run(loss_operation, feed_dict={x: batch_x, y: batch_y, keep_prob: 1.})\n",
    "            total_loss += loss\n",
    "            sess.run(training_operation, feed_dict={x: batch_x, y: batch_y, keep_prob: dropout})\n",
    "        \n",
    "        validation_accuracy = evaluate(X_valid, y_valid)\n",
    "        validation_accuracy_list.append(validation_accuracy)\n",
    "        avg_loss = total_loss / num_iterations\n",
    "        avg_loss_list.append(avg_loss)\n",
    "        \n",
    "        print(\"EPOCH {} ...\".format(i+1))\n",
    "        print(\"Validation Avg Loss = {:>10.4f}\".format(avg_loss))\n",
    "        print(\"Validation Accuracy = {:.3f}\".format(validation_accuracy))\n",
    "        print()\n",
    "\n",
    "    saver.save(sess, './lenet100')\n",
    "    print(\"Model saved\")"
   ]
  },
  {
   "cell_type": "code",
   "execution_count": 17,
   "metadata": {},
   "outputs": [
    {
     "data": {
      "image/png": "[encoded data removed]",
      "text/plain": [
       "<Figure size 432x288 with 1 Axes>"
      ]
     },
     "metadata": {},
     "output_type": "display_data"
    }
   ],
   "source": [
    "# Plot Model Accuracy:\n",
    "x1 = np.linspace(1, EPOCHS, EPOCHS)\n",
    "y1 = np.array(validation_accuracy_list)\n",
    "plt.plot(x1, y1, 'b-', label='validation')\n",
    "plt.xlabel('Epoch')\n",
    "plt.ylabel('Accuracy')\n",
    "plt.ylim(ymax=1)\n",
    "plt.title('Model Accuracy')\n",
    "plt.legend(loc='lower right')\n",
    "plt.grid(True)\n",
    "plt.show()\n",
    "#plt.savefig('output/traffic_sign_model_accuracy.jpg', dpi=100)"
   ]
  },
  {
   "cell_type": "code",
   "execution_count": 23,
   "metadata": {},
   "outputs": [
    {
     "data": {
      "image/png": "[encoded data removed]",
      "text/plain": [
       "<Figure size 432x288 with 1 Axes>"
      ]
     },
     "metadata": {},
     "output_type": "display_data"
    }
   ],
   "source": [
    "# Plot Model Loss:\n",
    "x1 = np.linspace(1, EPOCHS, EPOCHS)\n",
    "y1 = np.array(avg_loss_list)\n",
    "plt.plot(x1, y1, 'g-', label='loss')\n",
    "plt.xlabel('Epoch')\n",
    "plt.ylabel('Loss')\n",
    "plt.ylim(ymax=0.2)\n",
    "plt.ylim(ymin=0)\n",
    "plt.title('Cross Entropy')\n",
    "plt.legend(loc='upper right')\n",
    "plt.grid(True)\n",
    "plt.show()\n",
    "#plt.savefig('output/traffic_sign_cross_entropy.jpg', dpi=100)"
   ]
  },
  {
   "cell_type": "code",
   "execution_count": null,
   "metadata": {},
   "outputs": [],
   "source": [
    "# Run the model on the test data:\n",
    "with tf.Session() as sess:\n",
    "    sess.run(init)\n",
    "    saver.restore(sess, './lenet')\n",
    "    # Calculate accuracy for test dataset\n",
    "    test_accuracy = sess.run(\n",
    "        accuracy_operation,\n",
    "        feed_dict={x: X_test, y: y_test, keep_prob : 1.0})\n",
    "print('Test Accuracy: {}'.format(test_accuracy))"
   ]
  },
  {
   "cell_type": "markdown",
   "metadata": {},
   "source": [
    "---\n",
    "\n",
    "## Step 3: Test a Model on New Images\n",
    "\n",
    "To give yourself more insight into how your model is working, download at least five pictures of German traffic signs from the web and use your model to predict the traffic sign type.\n",
    "\n",
    "You may find `signnames.csv` useful as it contains mappings from the class id (integer) to the actual sign name."
   ]
  },
  {
   "cell_type": "markdown",
   "metadata": {},
   "source": [
    "### Load and Output the Images"
   ]
  },
  {
   "cell_type": "code",
   "execution_count": 49,
   "metadata": {
    "scrolled": false
   },
   "outputs": [
    {
     "data": {
      "image/png": "[encoded data removed]",
      "text/plain": [
       "<Figure size 432x288 with 1 Axes>"
      ]
     },
     "metadata": {},
     "output_type": "display_data"
    }
   ],
   "source": [
    "from numpy import arange\n",
    "import matplotlib.image as mpimg\n",
    "\n",
    "image_dir = 'traffic_sign_web_data/'\n",
    "\n",
    "# German traffic sign data set downloaded from web, then cropped, and then resized:\n",
    "images = [['glatteis_gefahr.jpg', 'glatteis_gefahr_cropped.jpg', 'glatteis_gefahr_cropped_resized.jpg'], \\\n",
    "['speed_limit_80.jpeg', 'speed_limit_80_cropped.jpg', 'speed_limit_80_cropped_resized.jpg'], \\\n",
    "['stoppschild.jpg', 'stoppschild_cropped.jpg', 'stoppschild_cropped_resized.jpg'], \\\n",
    "['strassenbauarbeiten.jpg', 'strassenbauarbeiten_cropped.jpg', 'strassenbauarbeiten_cropped_resized.jpg'], \\\n",
    "['uberholverbot.jpg', 'uberholverbot_cropped.jpg', 'uberholverbot_cropped_resized.jpg'], \\\n",
    "['wild_wechsel.jpg', 'wild_wechsel_cropped.jpg', 'wild_wechsel_cropped_resized.jpg']]\n",
    "\n",
    "# Plotting helpers:\n",
    "first_col  = arange(1, 3*len(images), 3)\n",
    "second_col = first_col + 1\n",
    "third_col  = first_col + 2\n",
    "j = 0\n",
    "image_list = []\n",
    "\n",
    "# load each image, cropped image, resized image: \n",
    "for i,c,r in images:\n",
    "\n",
    "    img = mpimg.imread(image_dir + i) #original\n",
    "    img_c = mpimg.imread(image_dir + c) #cropped\n",
    "    img_r = mpimg.imread(image_dir + r) #resized\n",
    "\n",
    "    #output the images:\n",
    "    fig, ax = plt.subplots(figsize=(10, 20), dpi=100, facecolor='w', edgecolor='k')\n",
    "\n",
    "    #first column plots:\n",
    "    plt.subplot(len(images), 3, first_col[j])\n",
    "    plt.title(i)\n",
    "    plt.imshow(img)\n",
    "\n",
    "    #second column plots:\n",
    "    plt.subplot(len(images), 3, second_col[j])\n",
    "    plt.title('Cropped')\n",
    "    plt.imshow(img_c)\n",
    "\n",
    "    #third column plots:\n",
    "    plt.subplot(len(images), 3, third_col[j])\n",
    "    plt.title('Resized')\n",
    "    plt.imshow(img_r)\n",
    "    \n",
    "    #perform preprocessing\n",
    "    #min-max scaling:\n",
    "    a=0.1\n",
    "    b=0.9\n",
    "    img_r =  a + (((img_r - np.min(img_r))*(b - a))/(np.max(img_r) - np.min(img_r)))\n",
    "    \n",
    "    #only add the resized (RGB 32x32) image to test on the model:\n",
    "    image_list.append(img_r)\n",
    "    j = j + 1\n",
    "    \n",
    "# Convert into numpy array to match shape and type of TensorFlow placeholder, x\n",
    "image_list = np.array(image_list)\n",
    "#print(image_list.shape)"
   ]
  },
  {
   "cell_type": "markdown",
   "metadata": {},
   "source": [
    "### Predict the Sign Type for Each Image"
   ]
  },
  {
   "cell_type": "code",
   "execution_count": 27,
   "metadata": {},
   "outputs": [
    {
     "name": "stdout",
     "output_type": "stream",
     "text": [
      "[[ -45.98648    -29.545095   -24.386923   -10.235535   -58.45438\n",
      "   -26.211658   -69.91397    -23.782007   -14.616949    -6.590189\n",
      "   -29.06135     -8.619675   -32.581707   -26.40668    -40.881752\n",
      "   -17.50275    -23.054893   -28.398458   -20.061016   -23.76995\n",
      "    -7.40489    -38.37809    -29.868835   -13.307219   -16.013027\n",
      "   -24.963978   -20.52756    -16.098269    16.746346    -9.76921\n",
      "     1.3737743  -40.731598   -32.484493   -19.04703    -19.086758\n",
      "   -15.229017   -33.519226   -41.300182   -35.54882    -38.733837\n",
      "   -29.159817   -40.44168    -44.59805  ]\n",
      " [  -1.6521556   15.278175     4.0407357  -34.748447    -7.246422\n",
      "    -5.59284    -21.717627   -17.672075   -18.459488   -49.995773\n",
      "   -58.0743     -25.147188   -29.734613   -37.50016    -46.70801\n",
      "   -24.503733   -38.786255   -40.770874   -15.084698   -70.674706\n",
      "   -31.521845   -55.0037     -76.03109    -52.137302   -44.90546\n",
      "   -30.70647    -47.72616    -32.624058   -28.91544    -39.716694\n",
      "   -62.65156    -32.696102   -43.355835   -40.985146   -56.837025\n",
      "   -29.452414   -40.848248   -25.249088   -22.994535   -31.795177\n",
      "    -2.875183   -62.59576    -36.78432  ]\n",
      " [ -21.70475      4.771715   -14.745878     2.4007173  -18.119183\n",
      "    -8.866999   -35.441288   -41.072346   -32.153786   -20.403877\n",
      "   -15.809423   -27.725622   -10.743061    -3.790018    19.77867\n",
      "     3.5735836  -53.15684     -9.342429   -32.420982   -39.970917\n",
      "   -38.241943   -27.658247   -23.621632   -27.82023    -41.67941\n",
      "    -8.194626   -21.91687    -57.682606   -25.540997    -9.092052\n",
      "   -34.927437   -23.956284    -9.222738   -33.527084   -37.69118\n",
      "   -33.257862   -20.707365   -51.784912   -26.214155   -55.5864\n",
      "   -43.896996   -40.649002   -44.00982  ]\n",
      " [-101.447266   -36.756443   -77.98684    -84.71177    -72.00174\n",
      "   -49.612774   -91.46742   -155.79588   -134.43878   -104.255104\n",
      "   -48.123135   -58.872322   -42.729416   -52.366425   -82.19848\n",
      "   -55.18794   -140.99995   -114.32583    -44.27022    -70.32479\n",
      "    -2.3040078  -54.975998   -62.485214   -37.536312   -37.986824\n",
      "    60.278538   -53.24702    -70.91026    -88.9873     -28.732477\n",
      "   -71.73924    -64.5299     -91.2966     -92.72609    -86.88391\n",
      "   -46.65507     -5.1375318 -106.19765    -11.46695    -88.878\n",
      "   -51.669212   -51.81487    -69.034355 ]\n",
      " [-215.86742   -128.46448   -120.611275   -41.99628   -220.78206\n",
      "   -33.0098    -160.51631    -16.959753  -157.71614      8.679489\n",
      "    65.19166    -48.312748   -15.259451   -43.803482  -128.10294\n",
      "   -89.2625     -34.098644  -108.69908   -179.03651    -69.99511\n",
      "   -74.48459    -95.47353   -213.80711    -23.24102   -162.6909\n",
      "   -68.86957    -42.294     -165.77301    -66.98682   -109.869255\n",
      "   -54.834644  -148.18161   -133.53268    -71.4526     -64.88476\n",
      "     4.1057353 -169.11453    -58.64571   -146.92561   -217.37424\n",
      "   -56.37459    -57.36765     32.72889  ]\n",
      " [  -5.6502786  -26.146704   -43.81046    -17.557514   -45.018295\n",
      "   -21.75594    -44.374786   -31.616749   -33.7269     -30.071272\n",
      "   -16.76234      0.5933271  -26.793722   -36.250927   -42.189243\n",
      "   -68.29057    -41.933132   -11.568643   -11.985674     6.277677\n",
      "    -0.7910395    1.0583919  -29.92203     14.270526   -22.166815\n",
      "    -9.383901   -28.974499   -20.13177    -25.237553    -7.1570854\n",
      "    -4.6722293   16.835907   -66.70944    -36.53384    -46.87089\n",
      "   -33.63742    -35.881306   -30.43958    -30.255564   -36.431858\n",
      "   -11.469997   -36.72589    -35.16243  ]]\n"
     ]
    }
   ],
   "source": [
    "### Run the predictions here and use the model to output the prediction for each image.\n",
    "with tf.Session() as sess:\n",
    "    saver.restore(sess, './lenet100')\n",
    "    classification = sess.run(logits, feed_dict={x: image_list, keep_prob: 1.0})\n",
    "    print(classification)"
   ]
  },
  {
   "cell_type": "markdown",
   "metadata": {},
   "source": [
    "### Analyze Performance"
   ]
  },
  {
   "cell_type": "code",
   "execution_count": 28,
   "metadata": {},
   "outputs": [
    {
     "name": "stdout",
     "output_type": "stream",
     "text": [
      "Image 0 probabilities: [16.746346   1.3737743 -6.590189  -7.40489   -8.619675 ] \n",
      " and predicted classes: [28 30  9 20 11]\n",
      "Image 1 probabilities: [15.278175   4.0407357 -1.6521556 -2.875183  -5.59284  ] \n",
      " and predicted classes: [ 1  2  0 40  5]\n",
      "Image 2 probabilities: [19.77867    4.771715   3.5735836  2.4007173 -3.790018 ] \n",
      " and predicted classes: [14  1 15  3 13]\n",
      "Image 3 probabilities: [ 60.278538   -2.3040078  -5.1375318 -11.46695   -28.732477 ] \n",
      " and predicted classes: [25 20 36 38 29]\n",
      "Image 4 probabilities: [ 65.19166    32.72889     8.679489    4.1057353 -15.259451 ] \n",
      " and predicted classes: [10 42  9 35 12]\n",
      "Image 5 probabilities: [16.835907  14.270526   6.277677   1.0583919  0.5933271] \n",
      " and predicted classes: [31 23 19 21 11]\n"
     ]
    }
   ],
   "source": [
    "### Calculate the accuracy for these 5 new images. \n",
    "### For example, if the model predicted 1 out of 5 signs correctly, it's 20% accurate on these new images.\n",
    "with tf.Session() as sess:\n",
    "    predicts = sess.run(tf.nn.top_k(classification, k=5, sorted=True))\n",
    " \n",
    "for i in range(len(predicts[0])):\n",
    "    print('Image', i, 'probabilities:', predicts[0][i], '\\n and predicted classes:', predicts[1][i])\n"
   ]
  },
  {
   "cell_type": "markdown",
   "metadata": {},
   "source": [
    "### Output Top 5 Softmax Probabilities For Each Image Found on the Web"
   ]
  },
  {
   "cell_type": "markdown",
   "metadata": {},
   "source": [
    "For each of the new images, print out the model's softmax probabilities to show the **certainty** of the model's predictions (limit the output to the top 5 probabilities for each image). [`tf.nn.top_k`](https://www.tensorflow.org/versions/r0.12/api_docs/python/nn.html#top_k) could prove helpful here. \n",
    "\n",
    "The example below demonstrates how tf.nn.top_k can be used to find the top k predictions for each image.\n",
    "\n",
    "`tf.nn.top_k` will return the values and indices (class ids) of the top k predictions. So if k=3, for each sign, it'll return the 3 largest probabilities (out of a possible 43) and the correspoding class ids.\n",
    "\n",
    "Take this numpy array as an example. The values in the array represent predictions. The array contains softmax probabilities for five candidate images with six possible classes. `tf.nn.top_k` is used to choose the three classes with the highest probability:\n",
    "\n",
    "```\n",
    "# (5, 6) array\n",
    "a = np.array([[ 0.24879643,  0.07032244,  0.12641572,  0.34763842,  0.07893497,\n",
    "         0.12789202],\n",
    "       [ 0.28086119,  0.27569815,  0.08594638,  0.0178669 ,  0.18063401,\n",
    "         0.15899337],\n",
    "       [ 0.26076848,  0.23664738,  0.08020603,  0.07001922,  0.1134371 ,\n",
    "         0.23892179],\n",
    "       [ 0.11943333,  0.29198961,  0.02605103,  0.26234032,  0.1351348 ,\n",
    "         0.16505091],\n",
    "       [ 0.09561176,  0.34396535,  0.0643941 ,  0.16240774,  0.24206137,\n",
    "         0.09155967]])\n",
    "```\n",
    "\n",
    "Running it through `sess.run(tf.nn.top_k(tf.constant(a), k=3))` produces:\n",
    "\n",
    "```\n",
    "TopKV2(values=array([[ 0.34763842,  0.24879643,  0.12789202],\n",
    "       [ 0.28086119,  0.27569815,  0.18063401],\n",
    "       [ 0.26076848,  0.23892179,  0.23664738],\n",
    "       [ 0.29198961,  0.26234032,  0.16505091],\n",
    "       [ 0.34396535,  0.24206137,  0.16240774]]), indices=array([[3, 0, 5],\n",
    "       [0, 1, 4],\n",
    "       [0, 5, 1],\n",
    "       [1, 3, 5],\n",
    "       [1, 4, 3]], dtype=int32))\n",
    "```\n",
    "\n",
    "Looking just at the first row we get `[ 0.34763842,  0.24879643,  0.12789202]`, you can confirm these are the 3 largest probabilities in `a`. You'll also notice `[3, 0, 5]` are the corresponding indices."
   ]
  },
  {
   "cell_type": "code",
   "execution_count": null,
   "metadata": {},
   "outputs": [],
   "source": [
    "### Print out the top five softmax probabilities for the predictions on the German traffic sign images found on the web. \n",
    "### Feel free to use as many code cells as needed."
   ]
  },
  {
   "cell_type": "markdown",
   "metadata": {},
   "source": [
    "### Project Writeup\n",
    "\n",
    "Once you have completed the code implementation, document your results in a project writeup using this [template](https://github.com/udacity/CarND-Traffic-Sign-Classifier-Project/blob/master/writeup_template.md) as a guide. The writeup can be in a markdown or pdf file. "
   ]
  },
  {
   "cell_type": "markdown",
   "metadata": {},
   "source": [
    "> **Note**: Once you have completed all of the code implementations and successfully answered each question above, you may finalize your work by exporting the iPython Notebook as an HTML document. You can do this by using the menu above and navigating to  \\n\",\n",
    "    \"**File -> Download as -> HTML (.html)**. Include the finished document along with this notebook as your submission."
   ]
  },
  {
   "cell_type": "markdown",
   "metadata": {},
   "source": [
    "---\n",
    "\n",
    "## Step 4 (Optional): Visualize the Neural Network's State with Test Images\n",
    "\n",
    " This Section is not required to complete but acts as an additional excersise for understaning the output of a neural network's weights. While neural networks can be a great learning device they are often referred to as a black box. We can understand what the weights of a neural network look like better by plotting their feature maps. After successfully training your neural network you can see what it's feature maps look like by plotting the output of the network's weight layers in response to a test stimuli image. From these plotted feature maps, it's possible to see what characteristics of an image the network finds interesting. For a sign, maybe the inner network feature maps react with high activation to the sign's boundary outline or to the contrast in the sign's painted symbol.\n",
    "\n",
    " Provided for you below is the function code that allows you to get the visualization output of any tensorflow weight layer you want. The inputs to the function should be a stimuli image, one used during training or a new one you provided, and then the tensorflow variable name that represents the layer's state during the training process, for instance if you wanted to see what the [LeNet lab's](https://classroom.udacity.com/nanodegrees/nd013/parts/fbf77062-5703-404e-b60c-95b78b2f3f9e/modules/6df7ae49-c61c-4bb2-a23e-6527e69209ec/lessons/601ae704-1035-4287-8b11-e2c2716217ad/concepts/d4aca031-508f-4e0b-b493-e7b706120f81) feature maps looked like for it's second convolutional layer you could enter conv2 as the tf_activation variable.\n",
    "\n",
    "For an example of what feature map outputs look like, check out NVIDIA's results in their paper [End-to-End Deep Learning for Self-Driving Cars](https://devblogs.nvidia.com/parallelforall/deep-learning-self-driving-cars/) in the section Visualization of internal CNN State. NVIDIA was able to show that their network's inner weights had high activations to road boundary lines by comparing feature maps from an image with a clear path to one without. Try experimenting with a similar test to show that your trained network's weights are looking for interesting features, whether it's looking at differences in feature maps from images with or without a sign, or even what feature maps look like in a trained network vs a completely untrained one on the same sign image.\n",
    "\n",
    "<figure>\n",
    " <img src=\"visualize_cnn.png\" width=\"380\" alt=\"Combined Image\" />\n",
    " <figcaption>\n",
    " <p></p> \n",
    " <p style=\"text-align: center;\"> Your output should look something like this (above)</p> \n",
    " </figcaption>\n",
    "</figure>\n",
    " <p></p> \n"
   ]
  },
  {
   "cell_type": "code",
   "execution_count": null,
   "metadata": {},
   "outputs": [],
   "source": [
    "### Visualize your network's feature maps here.\n",
    "### Feel free to use as many code cells as needed.\n",
    "\n",
    "# image_input: the test image being fed into the network to produce the feature maps\n",
    "# tf_activation: should be a tf variable name used during your training procedure that represents the calculated state of a specific weight layer\n",
    "# activation_min/max: can be used to view the activation contrast in more detail, by default matplot sets min and max to the actual min and max values of the output\n",
    "# plt_num: used to plot out multiple different weight feature map sets on the same block, just extend the plt number for each new feature map entry\n",
    "\n",
    "def outputFeatureMap(image_input, tf_activation, activation_min=-1, activation_max=-1 ,plt_num=1):\n",
    "    # Here make sure to preprocess your image_input in a way your network expects\n",
    "    # with size, normalization, ect if needed\n",
    "    # image_input =\n",
    "    # Note: x should be the same name as your network's tensorflow data placeholder variable\n",
    "    # If you get an error tf_activation is not defined it may be having trouble accessing the variable from inside a function\n",
    "    activation = tf_activation.eval(session=sess,feed_dict={x : image_input})\n",
    "    featuremaps = activation.shape[3]\n",
    "    plt.figure(plt_num, figsize=(15,15))\n",
    "    for featuremap in range(featuremaps):\n",
    "        plt.subplot(6,8, featuremap+1) # sets the number of feature maps to show on each row and column\n",
    "        plt.title('FeatureMap ' + str(featuremap)) # displays the feature map number\n",
    "        if activation_min != -1 & activation_max != -1:\n",
    "            plt.imshow(activation[0,:,:, featuremap], interpolation=\"nearest\", vmin =activation_min, vmax=activation_max, cmap=\"gray\")\n",
    "        elif activation_max != -1:\n",
    "            plt.imshow(activation[0,:,:, featuremap], interpolation=\"nearest\", vmax=activation_max, cmap=\"gray\")\n",
    "        elif activation_min !=-1:\n",
    "            plt.imshow(activation[0,:,:, featuremap], interpolation=\"nearest\", vmin=activation_min, cmap=\"gray\")\n",
    "        else:\n",
    "            plt.imshow(activation[0,:,:, featuremap], interpolation=\"nearest\", cmap=\"gray\")"
   ]
  }
 ],
 "metadata": {
  "anaconda-cloud": {},
  "kernelspec": {
   "display_name": "Python 3",
   "language": "python",
   "name": "python3"
  },
  "language_info": {
   "codemirror_mode": {
    "name": "ipython",
    "version": 3
   },
   "file_extension": ".py",
   "mimetype": "text/x-python",
   "name": "python",
   "nbconvert_exporter": "python",
   "pygments_lexer": "ipython3",
   "version": "3.5.2"
  },
  "widgets": {
   "state": {},
   "version": "1.1.2"
  }
 },
 "nbformat": 4,
 "nbformat_minor": 1
}
