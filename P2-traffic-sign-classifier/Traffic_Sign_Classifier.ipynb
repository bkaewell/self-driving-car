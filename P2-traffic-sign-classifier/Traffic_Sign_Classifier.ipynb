{
 "cells": [
  {
   "cell_type": "markdown",
   "metadata": {},
   "source": [
    "# Self-Driving Car Engineer Nanodegree\n",
    "\n",
    "## Deep Learning\n",
    "\n",
    "## Project: Build a Traffic Sign Recognition Classifier\n",
    "\n",
    "In this notebook, a template is provided for you to implement your functionality in stages, which is required to successfully complete this project. If additional code is required that cannot be included in the notebook, be sure that the Python code is successfully imported and included in your submission if necessary. \n",
    "\n",
    "> **Note**: Once you have completed all of the code implementations, you need to finalize your work by exporting the iPython Notebook as an HTML document. Before exporting the notebook to html, all of the code cells need to have been run so that reviewers can see the final implementation and output. You can then export the notebook by using the menu above and navigating to  \\n\",\n",
    "    \"**File -> Download as -> HTML (.html)**. Include the finished document along with this notebook as your submission. \n",
    "\n",
    "In addition to implementing code, there is a writeup to complete. The writeup should be completed in a separate file, which can be either a markdown file or a pdf document. There is a [write up template](https://github.com/udacity/CarND-Traffic-Sign-Classifier-Project/blob/master/writeup_template.md) that can be used to guide the writing process. Completing the code template and writeup template will cover all of the [rubric points](https://review.udacity.com/#!/rubrics/481/view) for this project.\n",
    "\n",
    "The [rubric](https://review.udacity.com/#!/rubrics/481/view) contains \"Stand Out Suggestions\" for enhancing the project beyond the minimum requirements. The stand out suggestions are optional. If you decide to pursue the \"stand out suggestions\", you can include the code in this Ipython notebook and also discuss the results in the writeup file.\n",
    "\n",
    "\n",
    ">**Note:** Code and Markdown cells can be executed using the **Shift + Enter** keyboard shortcut. In addition, Markdown cells can be edited by typically double-clicking the cell to enter edit mode."
   ]
  },
  {
   "cell_type": "markdown",
   "metadata": {},
   "source": [
    "---\n",
    "## Step 0: Load The Data"
   ]
  },
  {
   "cell_type": "code",
   "execution_count": 1,
   "metadata": {},
   "outputs": [],
   "source": [
    "# Load pickled data:\n",
    "import pickle\n",
    "\n",
    "# Read in the training and testing data:\n",
    "training_file = r\"./train.p\"\n",
    "validation_file = r\"./valid.p\"\n",
    "testing_file = r\"./test.p\"\n",
    "\n",
    "with open(training_file, mode='rb') as f:\n",
    "    train = pickle.load(f)\n",
    "with open(validation_file, mode='rb') as f:\n",
    "    valid = pickle.load(f)\n",
    "with open(testing_file, mode='rb') as f:\n",
    "    test = pickle.load(f)\n",
    "\n",
    "# Store the data sets:\n",
    "X_train = train['features']\n",
    "y_train = train['labels']\n",
    "\n",
    "X_valid = valid['features']\n",
    "y_valid = valid['labels']\n",
    "\n",
    "X_test = test['features']\n",
    "y_test = test['labels']"
   ]
  },
  {
   "cell_type": "markdown",
   "metadata": {},
   "source": [
    "---\n",
    "\n",
    "## Step 1: Dataset Summary & Exploration\n",
    "\n",
    "The pickled data is a dictionary with 4 key/value pairs:\n",
    "\n",
    "- `'features'` is a 4D array containing raw pixel data of the traffic sign images, (num examples, width, height, channels).\n",
    "- `'labels'` is a 1D array containing the label/class id of the traffic sign. The file `signnames.csv` contains id -> name mappings for each id.\n",
    "- `'sizes'` is a list containing tuples, (width, height) representing the original width and height the image.\n",
    "- `'coords'` is a list containing tuples, (x1, y1, x2, y2) representing coordinates of a bounding box around the sign in the image. **THESE COORDINATES ASSUME THE ORIGINAL IMAGE. THE PICKLED DATA CONTAINS RESIZED VERSIONS (32 by 32) OF THESE IMAGES**\n",
    "\n",
    "Complete the basic data summary below. Use python, numpy and/or pandas methods to calculate the data summary rather than hard coding the results. For example, the [pandas shape method](http://pandas.pydata.org/pandas-docs/stable/generated/pandas.DataFrame.shape.html) might be useful for calculating some of the summary results. "
   ]
  },
  {
   "cell_type": "markdown",
   "metadata": {},
   "source": [
    "### Provide a Basic Summary of the Data Set Using Python, Numpy and/or Pandas"
   ]
  },
  {
   "cell_type": "code",
   "execution_count": 2,
   "metadata": {},
   "outputs": [
    {
     "name": "stdout",
     "output_type": "stream",
     "text": [
      "Number of training examples = 34799\n",
      "Number of validation samples = 4410\n",
      "Number of testing examples = 12630\n",
      "Image data shape = (32, 32, 3)\n",
      "Number of classes = 43\n"
     ]
    }
   ],
   "source": [
    "# Number of training examples\n",
    "n_train = len(X_train)\n",
    "\n",
    "# Number of validation examples\n",
    "n_validation = len(X_valid)\n",
    "\n",
    "# Number of testing examples\n",
    "n_test = len(X_test)\n",
    "\n",
    "# Shape of a traffic sign image\n",
    "image_shape = X_train[0].shape\n",
    "\n",
    "# How many unique classes/labels are there in the dataset?\n",
    "n_classes = len(set(y_train))\n",
    "\n",
    "# Dropout, probability to keep units\n",
    "dropout = 0.75\n",
    "\n",
    "print(\"Number of training examples =\", n_train)\n",
    "print(\"Number of validation samples =\", n_validation)\n",
    "print(\"Number of testing examples =\", n_test)\n",
    "print(\"Image data shape =\", image_shape)\n",
    "print(\"Number of classes =\", n_classes)\n"
   ]
  },
  {
   "cell_type": "markdown",
   "metadata": {},
   "source": [
    "### Include an exploratory visualization of the dataset"
   ]
  },
  {
   "cell_type": "markdown",
   "metadata": {},
   "source": [
    "Visualize the German Traffic Signs Dataset using the pickled file(s). This is open ended, suggestions include: plotting traffic sign images, plotting the count of each sign, etc. \n",
    "\n",
    "The [Matplotlib](http://matplotlib.org/) [examples](http://matplotlib.org/examples/index.html) and [gallery](http://matplotlib.org/gallery.html) pages are a great resource for doing visualizations in Python.\n",
    "\n",
    "**NOTE:** It's recommended you start with something simple first. If you wish to do more, come back to it after you've completed the rest of the sections. It can be interesting to look at the distribution of classes in the training, validation and test set. Is the distribution the same? Are there more examples of some classes than others?"
   ]
  },
  {
   "cell_type": "code",
   "execution_count": 3,
   "metadata": {
    "scrolled": true
   },
   "outputs": [
    {
     "data": {
      "text/plain": [
       "[]"
      ]
     },
     "execution_count": 3,
     "metadata": {},
     "output_type": "execute_result"
    },
    {
     "data": {
      "image/png": "[encoded data removed]",
      "text/plain": [
       "<Figure size 432x288 with 1 Axes>"
      ]
     },
     "metadata": {},
     "output_type": "display_data"
    }
   ],
   "source": [
    "### Data exploration visualization:\n",
    "import random\n",
    "import numpy as np\n",
    "import pandas as pd\n",
    "import matplotlib.pyplot as plt\n",
    "%matplotlib inline\n",
    "\n",
    "# Load helper data from csv file:\n",
    "df = pd.read_csv('./signnames.csv')\n",
    "#print(df)\n",
    "\n",
    "# Histogram of the data:\n",
    "plt.hist(y_train, bins=n_classes, facecolor='green', alpha=0.75)\n",
    "plt.xlabel('Class Id')\n",
    "plt.ylabel('Frequency')\n",
    "plt.title('Histogram of the German Traffic Sign Data Set')\n",
    "plt.grid(True)\n",
    "plt.xticks(np.arange(0, n_classes, 5))\n",
    "plt.plot()\n",
    "#plt.savefig('output/traffic_sign_histogram.jpg', dpi=100)"
   ]
  },
  {
   "cell_type": "code",
   "execution_count": 4,
   "metadata": {},
   "outputs": [
    {
     "name": "stdout",
     "output_type": "stream",
     "text": [
      "<class 'numpy.ndarray'>\n",
      "<class 'numpy.ndarray'>\n",
      "<class 'numpy.ndarray'>\n",
      "<class 'numpy.ndarray'>\n"
     ]
    },
    {
     "data": {
      "image/png": "[encoded data removed]",
      "text/plain": [
       "<Figure size 432x288 with 4 Axes>"
      ]
     },
     "metadata": {},
     "output_type": "display_data"
    }
   ],
   "source": [
    "# Example images from the training data:\n",
    "fig=plt.figure()\n",
    "for i in range(4):\n",
    "    index = random.randint(0, n_train)\n",
    "    image = X_train[index]\n",
    "    plt.subplot(2,2,i+1)\n",
    "    plt.axis('off')\n",
    "    tmp = plt.imshow(image)\n",
    "    print(type(image))\n",
    "tmp = plt.suptitle('Example Images of the German Traffic Sign Data Set')\n",
    "#plt.savefig('output/traffic_sign_examples.jpg', dpi=100)"
   ]
  },
  {
   "cell_type": "markdown",
   "metadata": {},
   "source": [
    "----\n",
    "\n",
    "## Step 2: Design and Test a Model Architecture\n",
    "\n",
    "Design and implement a deep learning model that learns to recognize traffic signs. Train and test your model on the [German Traffic Sign Dataset](http://benchmark.ini.rub.de/?section=gtsrb&subsection=dataset).\n",
    "\n",
    "The LeNet-5 implementation shown in the [classroom](https://classroom.udacity.com/nanodegrees/nd013/parts/fbf77062-5703-404e-b60c-95b78b2f3f9e/modules/6df7ae49-c61c-4bb2-a23e-6527e69209ec/lessons/601ae704-1035-4287-8b11-e2c2716217ad/concepts/d4aca031-508f-4e0b-b493-e7b706120f81) at the end of the CNN lesson is a solid starting point. You'll have to change the number of classes and possibly the preprocessing, but aside from that it's plug and play! \n",
    "\n",
    "With the LeNet-5 solution from the lecture, you should expect a validation set accuracy of about 0.89. To meet specifications, the validation set accuracy will need to be at least 0.93. It is possible to get an even higher accuracy, but 0.93 is the minimum for a successful project submission. \n",
    "\n",
    "There are various aspects to consider when thinking about this problem:\n",
    "\n",
    "- Neural network architecture (is the network over or underfitting?)\n",
    "- Play around preprocessing techniques (normalization, rgb to grayscale, etc)\n",
    "- Number of examples per label (some have more than others).\n",
    "- Generate fake data.\n",
    "\n",
    "Here is an example of a [published baseline model on this problem](http://yann.lecun.com/exdb/publis/pdf/sermanet-ijcnn-11.pdf). It's not required to be familiar with the approach used in the paper but, it's good practice to try to read papers like these."
   ]
  },
  {
   "cell_type": "markdown",
   "metadata": {},
   "source": [
    "### Pre-process the Data Set (normalization, grayscale, etc.)"
   ]
  },
  {
   "cell_type": "markdown",
   "metadata": {},
   "source": [
    "Minimally, the image data should be normalized so that the data has mean zero and equal variance. For image data, `(pixel - 128)/ 128` is a quick way to approximately normalize the data and can be used in this project. \n",
    "\n",
    "Other pre-processing steps are optional. You can try different techniques to see if it improves performance. \n",
    "\n",
    "Use the code cell (or multiple code cells, if necessary) to implement the first step of your project."
   ]
  },
  {
   "cell_type": "code",
   "execution_count": 5,
   "metadata": {},
   "outputs": [
    {
     "name": "stdout",
     "output_type": "stream",
     "text": [
      "Finished preprocessing the data set.\n",
      "\n"
     ]
    },
    {
     "data": {
      "image/png": "[encoded data removed]",
      "text/plain": [
       "<Figure size 432x288 with 2 Axes>"
      ]
     },
     "metadata": {},
     "output_type": "display_data"
    }
   ],
   "source": [
    "### Preprocess the data:\n",
    "import cv2\n",
    "from sklearn.utils import shuffle\n",
    "\n",
    "# To-do, cv2 not supported on udacity-carnd AMI on AWS..\n",
    "\n",
    "# Upsample minority classes:\n",
    "#X_train = np.array(train['features'])\n",
    "#y_train = np.array(train['labels'])\n",
    "#count_per_class = np.bincount(y_train)\n",
    "#avg_count = count_per_class.mean()\n",
    "#print(count_per_class)\n",
    "#print(avg_count)\n",
    "#print(\"\")\n",
    "#rotations = [-10, -5, 5, 10]\n",
    "\n",
    "# Based on the training data set, defining minority \n",
    "# class as any class less than 50% of the mean\n",
    "#for i in range(len(count_per_class)):\n",
    "    # If below the mean\n",
    "#    if count_per_class[i] < avg_count:\n",
    "#        delta = avg_count - count_per_class[i]\n",
    "#        ratio = delta // count_per_class[i]\n",
    "        #If below the mean by factor of 2 or more\n",
    "#        if ratio >= 1:\n",
    "#            #print(\"   \", delta, ratio)\n",
    "#            new_features = []\n",
    "#            new_labels = []\n",
    "#            mask = np.where(y_train == i)\n",
    "#            for j in range(int(ratio)):\n",
    "#                for image in X_train[mask]:\n",
    "#                    width, height, c = image.shape\n",
    "#                    M = cv2.getRotationMatrix2D((width, height), rotations[j], 1)\n",
    "#                    dst = cv2.warpAffine(image, M, (width, height))\n",
    "#                    new_features.append(dst)\n",
    "#                    new_labels.append(i)\n",
    "#            X_train = np.append(X_train, new_features, axis=0)\n",
    "#            y_train = np.append(y_train, new_labels, axis=0)    \n",
    "            \n",
    "# Histogram of the data post up-sampling\n",
    "#plt.hist(y_train, bins=n_classes, facecolor='green', alpha=0.75)\n",
    "#plt.xlabel('Class Id')\n",
    "#plt.ylabel('Frequency')\n",
    "#plt.title('Histogram of the German Traffic Sign Dataset')\n",
    "#plt.grid(True)\n",
    "#plt.xticks(np.arange(0, n_classes, 5))\n",
    "#plt.plot()            \n",
    "\n",
    "\n",
    "\n",
    "# Shuffle the training data:\n",
    "X_train, y_train = shuffle(X_train, y_train) \n",
    "\n",
    "# Transforms features by scaling each feature to a given range.\n",
    "# This estimator scales and translates each feature individually such \n",
    "# that it is in the given range on the training set, i.e. between zero and one.\n",
    "# Normalize the image data with Min-Max scaling to a range of [0.1, 0.9]\n",
    "# Keep the variance small\n",
    "a = 0.1\n",
    "b = 0.9\n",
    "X_train_norm =  a + (((X_train - np.min(X_train))*(b - a))/(np.max(X_train) - np.min(X_train)))\n",
    "X_test_norm =  a + (((X_test - np.min(X_test))*(b - a))/(np.max(X_test) - np.min(X_test)))\n",
    "#print(\"np.min(X_train)=\", np.min(X_train), \"np.min(X_train_norm)=\", np.min(X_train_norm))\n",
    "#print(\"np.max(X_train)=\", np.max(X_train), \"np.max(X_train_norm)=\", np.max(X_train_norm))\n",
    "\n",
    "# Plot Un-normalized vs Normalized:\n",
    "fig=plt.figure()\n",
    "index = random.randint(0, n_train)\n",
    "image = X_train[index]\n",
    "plt.subplot(1,2,1) #un-normalized\n",
    "plt.axis('off')\n",
    "plt.title('Original Image')\n",
    "tmp = plt.imshow(image)\n",
    "\n",
    "image = X_train_norm[index]\n",
    "plt.subplot(1,2,2) #normalized\n",
    "plt.axis('off')\n",
    "plt.title('Normalized w/ Min-Max Scaling')\n",
    "tmp = plt.imshow(image)\n",
    "#plt.savefig('output/traffic_sign_normalized.jpg', dpi=100)\n",
    "\n",
    "print(\"Finished preprocessing the data set.\")\n",
    "print(\"\")"
   ]
  },
  {
   "cell_type": "markdown",
   "metadata": {},
   "source": [
    "### Model Architecture"
   ]
  },
  {
   "cell_type": "code",
   "execution_count": 10,
   "metadata": {},
   "outputs": [],
   "source": [
    "from tensorflow.contrib.layers import flatten\n",
    "import tensorflow as tf\n",
    "\n",
    "EPOCHS = 10\n",
    "BATCH_SIZE = 100\n",
    "\n",
    "def LeNet(x, dropout):\n",
    "    # Hyper parameters:\n",
    "    mu = 0\n",
    "    sigma = 0.1\n",
    "    \n",
    "    # Convolutional (Layer 1). \n",
    "    # Input = 32x32x3. Output = 28x28x6.\n",
    "    conv1_W = tf.Variable(tf.truncated_normal(shape=(5, 5, 3, 6), mean = mu, stddev = sigma))\n",
    "    conv1_b = tf.Variable(tf.zeros(6))\n",
    "    conv1   = tf.nn.conv2d(x, conv1_W, strides=[1, 1, 1, 1], padding='VALID') + conv1_b\n",
    "\n",
    "    # Activation w/ dropout.\n",
    "    conv1 = tf.nn.relu(conv1)\n",
    "    #conv1 = tf.nn.dropout(conv1, dropout)\n",
    "\n",
    "    # Max Pooling. \n",
    "    # Input = 28x28x6. Output = 14x14x6.\n",
    "    conv1 = tf.nn.max_pool(conv1, ksize=[1, 2, 2, 1], strides=[1, 2, 2, 1], padding='VALID')\n",
    "\n",
    "    # Convolutional (Layer 2). \n",
    "    # Output = 10x10x16.\n",
    "    conv2_W = tf.Variable(tf.truncated_normal(shape=(5, 5, 6, 16), mean = mu, stddev = sigma))\n",
    "    conv2_b = tf.Variable(tf.zeros(16))\n",
    "    conv2   = tf.nn.conv2d(conv1, conv2_W, strides=[1, 1, 1, 1], padding='VALID') + conv2_b\n",
    "    \n",
    "    # Activation w/ dropout.\n",
    "    conv2 = tf.nn.relu(conv2)\n",
    "    #conv2 = tf.nn.dropout(conv2, dropout)\n",
    "\n",
    "    # Max Pooling. \n",
    "    # Input = 10x10x16. Output = 5x5x16.\n",
    "    conv2 = tf.nn.max_pool(conv2, ksize=[1, 2, 2, 1], strides=[1, 2, 2, 1], padding='VALID')\n",
    "\n",
    "    # Flatten. \n",
    "    # Input = 5x5x16. Output = 400.\n",
    "    fc0   = flatten(conv2)\n",
    "    \n",
    "    # Fully Connected (Layer 3). \n",
    "    # Input = 400. Output = 120.\n",
    "    fc1_W = tf.Variable(tf.truncated_normal(shape=(400, 120), mean = mu, stddev = sigma))\n",
    "    fc1_b = tf.Variable(tf.zeros(120))\n",
    "    fc1   = tf.matmul(fc0, fc1_W) + fc1_b\n",
    "    \n",
    "    # Activation w/ dropout.\n",
    "    fc1    = tf.nn.relu(fc1)\n",
    "    fc1    = tf.nn.dropout(fc1, dropout)\n",
    "\n",
    "    # Fully Connected (Layer 4). \n",
    "    # Input = 120. Output = 84.\n",
    "    fc2_W  = tf.Variable(tf.truncated_normal(shape=(120, 84), mean = mu, stddev = sigma))\n",
    "    fc2_b  = tf.Variable(tf.zeros(84))\n",
    "    fc2    = tf.matmul(fc1, fc2_W) + fc2_b\n",
    "    \n",
    "    # Activation w/ dropout.\n",
    "    fc2    = tf.nn.relu(fc2)\n",
    "    fc2    = tf.nn.dropout(fc2, dropout)\n",
    "\n",
    "    # Fully Connected (Layer 5). \n",
    "    # Input = 84. Output = n_classes = 43\n",
    "    fc3_W  = tf.Variable(tf.truncated_normal(shape=(84, n_classes), mean = mu, stddev = sigma))\n",
    "    fc3_b  = tf.Variable(tf.zeros(n_classes))\n",
    "    logits = tf.matmul(fc2, fc3_W) + fc3_b\n",
    "    \n",
    "    return logits"
   ]
  },
  {
   "cell_type": "markdown",
   "metadata": {},
   "source": [
    "### Train, Validate and Test the Model"
   ]
  },
  {
   "cell_type": "markdown",
   "metadata": {},
   "source": [
    "A validation set can be used to assess how well the model is performing. A low accuracy on the training and validation\n",
    "sets imply underfitting. A high accuracy on the training set but low accuracy on the validation set implies overfitting."
   ]
  },
  {
   "cell_type": "code",
   "execution_count": 11,
   "metadata": {},
   "outputs": [],
   "source": [
    "### Train your model here.\n",
    "### Calculate and report the accuracy on the training and validation set.\n",
    "### Once a final model architecture is selected, \n",
    "### the accuracy on the test set should be calculated and reported as well.\n",
    "### Feel free to use as many code cells as needed.\n",
    "\n",
    "# Features & labels:\n",
    "# x is a placeholder for a batch of input images\n",
    "# y is a placeholder for a batch of output labels\n",
    "\n",
    "#new_image_shape = add_pics_data.shape\n",
    "x = tf.placeholder(tf.float32, (None, 32, 32, 3))\n",
    "#x = tf.placeholder(tf.float32, shape=[None, 32, 32, 3])\n",
    "y = tf.placeholder(tf.int32, (None))\n",
    "one_hot_y = tf.one_hot(y, n_classes)\n",
    "\n",
    "keep_prob = tf.placeholder(tf.float32)"
   ]
  },
  {
   "cell_type": "code",
   "execution_count": 12,
   "metadata": {},
   "outputs": [],
   "source": [
    "# Training pipeline:\n",
    "rate = 0.001\n",
    "\n",
    "logits = LeNet(x, keep_prob)\n",
    "cross_entropy = tf.nn.softmax_cross_entropy_with_logits(labels=one_hot_y, logits=logits)\n",
    "loss_operation = tf.reduce_mean(cross_entropy)\n",
    "optimizer = tf.train.AdamOptimizer(learning_rate = rate)\n",
    "training_operation = optimizer.minimize(loss_operation)"
   ]
  },
  {
   "cell_type": "code",
   "execution_count": 13,
   "metadata": {},
   "outputs": [],
   "source": [
    "# Model evaluation:\n",
    "# Evaluate how well the loss and accuracy of the model for a given dataset\n",
    "correct_prediction = tf.equal(tf.argmax(logits, 1), tf.argmax(one_hot_y, 1))\n",
    "accuracy_operation = tf.reduce_mean(tf.cast(correct_prediction, tf.float32))\n",
    "saver = tf.train.Saver()\n",
    "\n",
    "def evaluate(X_data, y_data):\n",
    "    num_examples = len(X_data)\n",
    "    total_accuracy = 0\n",
    "    sess = tf.get_default_session()\n",
    "    for offset in range(0, num_examples, BATCH_SIZE):\n",
    "        batch_x, batch_y = X_data[offset:offset+BATCH_SIZE], y_data[offset:offset+BATCH_SIZE]\n",
    "        accuracy = sess.run(accuracy_operation, feed_dict={x: batch_x, y: batch_y, keep_prob: 1.0})\n",
    "        total_accuracy += (accuracy * len(batch_x))\n",
    "    return total_accuracy / num_examples"
   ]
  },
  {
   "cell_type": "code",
   "execution_count": 14,
   "metadata": {},
   "outputs": [
    {
     "name": "stdout",
     "output_type": "stream",
     "text": [
      "Training...\n",
      "\n",
      "EPOCH 1 ...\n",
      "Validation Avg Loss =     2.0722\n",
      "Validation Accuracy = 0.633\n",
      "\n",
      "EPOCH 2 ...\n",
      "Validation Avg Loss =     0.6256\n",
      "Validation Accuracy = 0.774\n",
      "\n",
      "EPOCH 3 ...\n",
      "Validation Avg Loss =     0.3393\n",
      "Validation Accuracy = 0.822\n",
      "\n",
      "EPOCH 4 ...\n",
      "Validation Avg Loss =     0.2267\n",
      "Validation Accuracy = 0.856\n",
      "\n",
      "EPOCH 5 ...\n",
      "Validation Avg Loss =     0.1655\n",
      "Validation Accuracy = 0.884\n",
      "\n",
      "EPOCH 6 ...\n",
      "Validation Avg Loss =     0.1285\n",
      "Validation Accuracy = 0.884\n",
      "\n",
      "EPOCH 7 ...\n",
      "Validation Avg Loss =     0.1022\n",
      "Validation Accuracy = 0.879\n",
      "\n",
      "EPOCH 8 ...\n",
      "Validation Avg Loss =     0.0854\n",
      "Validation Accuracy = 0.892\n",
      "\n",
      "EPOCH 9 ...\n",
      "Validation Avg Loss =     0.0722\n",
      "Validation Accuracy = 0.913\n",
      "\n",
      "EPOCH 10 ...\n",
      "Validation Avg Loss =     0.0598\n",
      "Validation Accuracy = 0.909\n",
      "\n",
      "Model saved\n"
     ]
    }
   ],
   "source": [
    "with tf.Session() as sess:\n",
    "    sess.run(tf.global_variables_initializer())\n",
    "    num_examples = len(X_train_norm)\n",
    "    validation_accuracy_list = []\n",
    "    avg_loss_list = []\n",
    "    num_iterations = num_examples / BATCH_SIZE\n",
    "    \n",
    "    print(\"Training...\")\n",
    "    print()\n",
    "    for i in range(EPOCHS):\n",
    "        total_loss = 0\n",
    "        X_train_norm, y_train = shuffle(X_train_norm, y_train)\n",
    "        for offset in range(0, num_examples, BATCH_SIZE):\n",
    "            end = offset + BATCH_SIZE\n",
    "            batch_x, batch_y = X_train_norm[offset:end], y_train[offset:end]\n",
    "            \n",
    "            loss = sess.run(loss_operation, feed_dict={x: batch_x, y: batch_y, keep_prob: 1.})\n",
    "            total_loss += loss\n",
    "            sess.run(training_operation, feed_dict={x: batch_x, y: batch_y, keep_prob: dropout})\n",
    "        \n",
    "        validation_accuracy = evaluate(X_valid, y_valid)\n",
    "        validation_accuracy_list.append(validation_accuracy)\n",
    "        avg_loss = total_loss / num_iterations\n",
    "        avg_loss_list.append(avg_loss)\n",
    "        \n",
    "        print(\"EPOCH {} ...\".format(i+1))\n",
    "        print(\"Validation Avg Loss = {:>10.4f}\".format(avg_loss))\n",
    "        print(\"Validation Accuracy = {:.3f}\".format(validation_accuracy))\n",
    "        print()\n",
    "\n",
    "    saver.save(sess, './lenet2')\n",
    "    print(\"Model saved\")"
   ]
  },
  {
   "cell_type": "code",
   "execution_count": null,
   "metadata": {},
   "outputs": [],
   "source": [
    "    # Plot Model Accuracy\n",
    "    x1 = np.linspace(1, EPOCHS, EPOCHS)\n",
    "    y1 = np.array(validation_accuracy_list)\n",
    "    plt.plot(x1, y1, 'b-', label='validation')\n",
    "    plt.xlabel('Epoch')\n",
    "    plt.ylabel('Accuracy')\n",
    "    plt.title('Model Accuracy')\n",
    "    plt.legend(loc='lower right')\n",
    "    plt.show()\n",
    "    #plt.savefig('output/traffic_sign_model_accuracy.jpg', dpi=100)"
   ]
  },
  {
   "cell_type": "code",
   "execution_count": null,
   "metadata": {},
   "outputs": [],
   "source": [
    "    # Plot Model Loss\n",
    "    x1 = np.linspace(1, EPOCHS, EPOCHS)\n",
    "    y1 = np.array(avg_loss_list)\n",
    "    plt.plot(x1, y1, 'r-', label='loss')\n",
    "    plt.xlabel('Epoch')\n",
    "    plt.ylabel('Loss')\n",
    "    plt.title('Model Loss')\n",
    "    plt.legend(loc='upper right')\n",
    "    plt.show()\n",
    "    #plt.savefig('output/traffic_sign_loss_accuracy.jpg', dpi=100)"
   ]
  },
  {
   "cell_type": "markdown",
   "metadata": {},
   "source": [
    "---\n",
    "\n",
    "## Step 3: Test a Model on New Images\n",
    "\n",
    "To give yourself more insight into how your model is working, download at least five pictures of German traffic signs from the web and use your model to predict the traffic sign type.\n",
    "\n",
    "You may find `signnames.csv` useful as it contains mappings from the class id (integer) to the actual sign name."
   ]
  },
  {
   "cell_type": "markdown",
   "metadata": {},
   "source": [
    "### Load and Output the Images"
   ]
  },
  {
   "cell_type": "code",
   "execution_count": 21,
   "metadata": {},
   "outputs": [
    {
     "data": {
      "image/png": "[encoded data removed]",
      "text/plain": [
       "<Figure size 432x288 with 1 Axes>"
      ]
     },
     "metadata": {},
     "output_type": "display_data"
    },
    {
     "data": {
      "image/png": "[encoded data removed]",
      "text/plain": [
       "<Figure size 432x288 with 1 Axes>"
      ]
     },
     "metadata": {},
     "output_type": "display_data"
    },
    {
     "data": {
      "image/png": "[encoded data removed]",
      "text/plain": [
       "<Figure size 432x288 with 1 Axes>"
      ]
     },
     "metadata": {},
     "output_type": "display_data"
    },
    {
     "data": {
      "image/png": "[encoded data removed]",
      "text/plain": [
       "<Figure size 432x288 with 1 Axes>"
      ]
     },
     "metadata": {},
     "output_type": "display_data"
    },
    {
     "data": {
      "image/png": "[encoded data removed]",
      "text/plain": [
       "<Figure size 432x288 with 1 Axes>"
      ]
     },
     "metadata": {},
     "output_type": "display_data"
    },
    {
     "data": {
      "image/png": "[encoded data removed]",
      "text/plain": [
       "<Figure size 432x288 with 1 Axes>"
      ]
     },
     "metadata": {},
     "output_type": "display_data"
    }
   ],
   "source": [
    "import matplotlib.image as mpimg\n",
    "\n",
    "imgs = ['stoppschild_cropped_resized.jpg', \\\n",
    "        'speed_limit_80_cropped_resized.jpg', \\\n",
    "        'wild_wechsel_cropped_resized.jpg', \\\n",
    "        'strassenbauarbeiten_cropped_resized.jpg', \\\n",
    "        'uberholverbot_cropped_resized.jpg', \\\n",
    "        'glatteis_gefahr_cropped_resized.jpg']\n",
    "\n",
    "\n",
    "#for imgname in imgs:\n",
    "    #reading in an image\n",
    "#    image = mpimg.imread('download_data/' + imgname)\n",
    "    #printing out some stats and plotting\n",
    "#    print('This image is:', type(image), 'with dimensions:', image.shape)\n",
    "#    new_input.append(image)\n",
    "#    plt.imshow(image)\n",
    "#    plt.show()\n",
    "\n",
    "# Show the images, add to a list to process for classifying\n",
    "add_pics_data = []\n",
    "for i in imgs:\n",
    "    i = 'download_data/' + i\n",
    "    image = mpimg.imread(i)\n",
    "    plt.imshow(image)\n",
    "    plt.show()\n",
    "    \n",
    "    a=0.1\n",
    "    b=0.9\n",
    "    image =  a + (((image - np.min(image))*(b - a))/(np.max(image) - np.min(image)))\n",
    "    \n",
    "    add_pics_data.append(image)\n"
   ]
  },
  {
   "cell_type": "code",
   "execution_count": 22,
   "metadata": {},
   "outputs": [
    {
     "name": "stdout",
     "output_type": "stream",
     "text": [
      "(6, 32, 32, 3)\n",
      "Preprocessing additional pictures...\n",
      "Finished preprocessing additional pictures.\n",
      "Processed additional pictures shape = (6, 32, 32, 3)\n"
     ]
    }
   ],
   "source": [
    "# Make into numpy array for processing\n",
    "add_pics_data = np.array(add_pics_data)\n",
    "\n",
    "# First, double-check the image shape to make sure it matches the original data's 32x32x3 size\n",
    "print(add_pics_data.shape)\n",
    "\n",
    "\n",
    "print('Preprocessing additional pictures...')\n",
    "\n",
    "# Iterate through grayscale\n",
    "#add_pics_data = preprocess(add_pics_data)\n",
    "#add_pics_data = add_pics_data[..., newaxis]\n",
    "\n",
    "# Normalize\n",
    "#add_pics_data = normalize(add_pics_data) \n",
    "\n",
    "\n",
    "print('Finished preprocessing additional pictures.')\n",
    "\n",
    "# Double-check that the image is changed to depth of 1\n",
    "new_image_shape = add_pics_data.shape\n",
    "print(\"Processed additional pictures shape =\", new_image_shape)\n"
   ]
  },
  {
   "cell_type": "markdown",
   "metadata": {},
   "source": [
    "### Predict the Sign Type for Each Image"
   ]
  },
  {
   "cell_type": "code",
   "execution_count": null,
   "metadata": {},
   "outputs": [],
   "source": [
    "from PIL import Image\n",
    "\n",
    "def resize_and_crop(img_path, modified_path, size, crop_type='top'):\n",
    "    \"\"\"\n",
    "    Resize and crop an image to fit the specified size.\n",
    "\n",
    "    args:\n",
    "        img_path: path for the image to resize.\n",
    "        modified_path: path to store the modified image.\n",
    "        size: `(width, height)` tuple.\n",
    "        crop_type: can be 'top', 'middle' or 'bottom', depending on this\n",
    "            value, the image will cropped getting the 'top/left', 'middle' or\n",
    "            'bottom/right' of the image to fit the size.\n",
    "    raises:\n",
    "        Exception: if can not open the file in img_path of there is problems\n",
    "            to save the image.\n",
    "        ValueError: if an invalid `crop_type` is provided.\n",
    "    \"\"\"\n",
    "    # If height is higher we resize vertically, if not we resize horizontally\n",
    "    img = Image.open(img_path)\n",
    "    # Get current and desired ratio for the images\n",
    "    img_ratio = img.size[0] / float(img.size[1])\n",
    "    ratio = size[0] / float(size[1])\n",
    "    #The image is scaled/cropped vertically or horizontally depending on the ratio\n",
    "    if ratio > img_ratio:\n",
    "        img = img.resize((size[0], round(size[0] * img.size[1] / img.size[0])),\n",
    "                Image.ANTIALIAS)\n",
    "        # Crop in the top, middle or bottom\n",
    "        if crop_type == 'top':\n",
    "            box = (0, 0, img.size[0], size[1])\n",
    "        elif crop_type == 'middle':\n",
    "            box = (0, round((img.size[1] - size[1]) / 2), img.size[0],\n",
    "                   round((img.size[1] + size[1]) / 2))\n",
    "        elif crop_type == 'bottom':\n",
    "            box = (0, img.size[1] - size[1], img.size[0], img.size[1])\n",
    "        else :\n",
    "            raise ValueError('ERROR: invalid value for crop_type')\n",
    "        img = img.crop(box)\n",
    "    elif ratio < img_ratio:\n",
    "        img = img.resize((round(size[1] * img.size[0] / img.size[1]), size[1]),\n",
    "                Image.ANTIALIAS)\n",
    "        # Crop in the top, middle or bottom\n",
    "        if crop_type == 'top':\n",
    "            box = (0, 0, size[0], img.size[1])\n",
    "        elif crop_type == 'middle':\n",
    "            box = (round((img.size[0] - size[0]) / 2), 0,\n",
    "                   round((img.size[0] + size[0]) / 2), img.size[1])\n",
    "        elif crop_type == 'bottom':\n",
    "            box = (img.size[0] - size[0], 0, img.size[0], img.size[1])\n",
    "        else :\n",
    "            raise ValueError('ERROR: invalid value for crop_type')\n",
    "        img = img.crop(box)\n",
    "    else :\n",
    "        img = img.resize((size[0], size[1]),\n",
    "                Image.ANTIALIAS)\n",
    "        # If the scale is the same, we do not need to crop\n",
    "    img.save(modified_path) \n",
    "    \n",
    "    \n",
    "    "
   ]
  },
  {
   "cell_type": "code",
   "execution_count": null,
   "metadata": {},
   "outputs": [],
   "source": [
    "#glatteis_gefahr_cropped.jpg\n",
    "#speed_limit_80_cropped.jpg\n",
    "#stoppschild_cropped.jpg\n",
    "#strassenbauarbeiten_cropped.jpg\n",
    "#uberholverbot_cropped.jpg\n",
    "#wild_wechsel_cropped.jpg\n",
    "\n",
    "img_path = 'download_data/speed_limit_80_cropped.jpg'\n",
    "modified_path = 'download_data/speed_limit_80_cropped_resized.jpg'\n",
    "\n",
    "size = [32,32, 3]\n",
    "resize_and_crop(img_path, modified_path, size, crop_type='top')\n",
    "image = mpimg.imread(modified_path)\n",
    "#printing out some stats and plotting\n",
    "print('This image is:', type(image), 'with dimensions:', image.shape)\n",
    "#new_input.append(image)\n",
    "plt.imshow(image)\n",
    "plt.show()"
   ]
  },
  {
   "cell_type": "code",
   "execution_count": 23,
   "metadata": {},
   "outputs": [
    {
     "name": "stdout",
     "output_type": "stream",
     "text": [
      "Processed additional pictures shape = (6, 32, 32, 3)\n",
      "[[-4.13918734e+00  5.57673633e-01 -3.19205976e+00 -3.72418463e-01\n",
      "  -6.34605742e+00 -3.64475608e+00 -1.49521770e+01 -8.24837303e+00\n",
      "  -4.97466183e+00 -3.67388296e+00 -6.26764154e+00  6.06518507e-01\n",
      "  -4.73546457e+00 -2.92478895e+00  7.73887110e+00  2.83198714e+00\n",
      "  -1.75769825e+01  3.85901481e-02 -3.22238398e+00 -7.93695688e+00\n",
      "  -8.49158287e+00 -3.15023708e+00 -1.33688354e+00 -4.99190187e+00\n",
      "  -4.73628712e+00 -2.07009602e+00 -9.85182881e-01 -9.04611588e+00\n",
      "  -1.74639070e+00  1.69392967e+00 -2.72857881e+00 -7.44037676e+00\n",
      "  -4.72024441e+00 -1.07877197e+01 -6.70145798e+00 -1.51484013e+01\n",
      "  -1.20501509e+01 -1.66650829e+01 -9.09383488e+00 -1.47077951e+01\n",
      "  -1.84996490e+01 -1.31317930e+01 -1.67526436e+01]\n",
      " [-5.91140747e+00  1.13005848e+01  1.32130489e+01  1.80769062e+00\n",
      "  -4.53193951e+00  8.46878529e+00  2.83399439e+00 -3.92471290e+00\n",
      "  -1.89335632e+01 -1.71706619e+01 -4.33663511e+00 -1.00380859e+01\n",
      "  -7.54571962e+00 -8.47650814e+00 -5.87436962e+00 -1.05661173e+01\n",
      "  -1.98550282e+01 -1.93075485e+01 -1.59110394e+01 -1.78475647e+01\n",
      "  -1.55082512e+01 -1.12322588e+01 -2.81676960e+01 -9.92889404e+00\n",
      "  -2.33874283e+01 -7.25909996e+00 -2.22702179e+01 -1.64133644e+01\n",
      "  -1.77096653e+01 -1.06215477e+01 -2.18009815e+01 -1.30696077e+01\n",
      "  -7.48659945e+00 -7.95089531e+00 -1.94806252e+01 -1.05972309e+01\n",
      "  -1.70470810e+01 -1.04124269e+01 -1.28364363e+01 -1.66497974e+01\n",
      "  -1.15860558e+01 -1.06917772e+01 -3.89924073e+00]\n",
      " [-1.20199499e+01 -8.80280972e+00 -9.05480385e+00 -1.13052139e+01\n",
      "  -1.37316504e+01 -1.20721464e+01 -2.33132591e+01 -1.73858280e+01\n",
      "  -1.39486713e+01 -9.67070293e+00 -1.33461332e+01 -9.76042092e-01\n",
      "  -1.41163244e+01 -8.67640018e+00 -1.68375416e+01 -2.09376869e+01\n",
      "  -1.90496941e+01 -4.89495516e+00 -9.73301029e+00  6.00322104e+00\n",
      "   6.15567029e-01  2.14796424e+00 -3.94156027e+00  7.10654068e+00\n",
      "   4.16267967e+00  2.12503076e+00 -5.28476381e+00 -4.36585283e+00\n",
      "   1.17212081e+00  4.24178600e+00  1.26701474e+00  7.68939734e+00\n",
      "  -2.08936310e+01 -9.44345856e+00 -1.01832914e+01 -8.74491119e+00\n",
      "  -5.75258923e+00 -5.21345901e+00 -1.68637028e+01 -6.57269335e+00\n",
      "  -1.45401211e+01 -1.20264883e+01 -1.93160324e+01]\n",
      " [-3.15039978e+01 -1.06459942e+01 -3.24700564e-01 -1.10401878e+01\n",
      "  -2.00340080e+01  6.23959243e-01 -1.79796963e+01 -2.71056423e+01\n",
      "  -3.62937164e+01 -2.44068069e+01 -1.07918882e+01 -1.05246696e+01\n",
      "  -1.75551300e+01 -1.11411991e+01 -2.10751133e+01 -1.69614868e+01\n",
      "  -3.50993576e+01 -3.21866188e+01 -1.00544710e+01 -1.50867538e+01\n",
      "   3.79054880e+00 -1.48755522e+01 -1.38502693e+01 -2.05639553e+00\n",
      "  -6.50948954e+00  1.90952873e+01 -1.42109709e+01 -4.09183741e+00\n",
      "  -1.51737394e+01 -9.11426258e+00 -1.49002466e+01 -1.50794125e+01\n",
      "  -2.05020046e+01 -1.57677679e+01 -2.53183270e+01 -1.67960720e+01\n",
      "  -8.78869534e+00 -1.99128647e+01 -8.73821068e+00 -1.86207962e+01\n",
      "  -2.26389427e+01 -8.90050220e+00 -1.83128719e+01]\n",
      " [-3.69835739e+01 -1.60526772e+01 -3.65027994e-01 -1.25755701e+01\n",
      "  -1.99422684e+01  7.47261143e+00 -2.88765240e+01  1.55466151e+00\n",
      "  -2.91059341e+01 -7.41643786e-01  2.72108898e+01 -4.03188324e+00\n",
      "  -4.70787334e+00 -1.58511505e+01 -2.83062534e+01 -1.82950478e+01\n",
      "  -3.52697825e+00 -3.14438763e+01 -1.37287455e+01 -1.67562819e+00\n",
      "  -6.17004681e+00 -1.09708900e+01 -5.15911179e+01  6.60969317e-01\n",
      "  -2.93761082e+01 -7.43419647e+00 -1.30049829e+01 -9.91904163e+00\n",
      "  -2.81095543e+01 -2.16161118e+01 -2.00162811e+01 -1.41066179e+01\n",
      "  -3.71399345e+01 -7.96726322e+00 -3.88161240e+01 -1.04527283e+01\n",
      "  -3.85871887e+01 -1.78871226e+00 -2.48208523e+01 -1.65583935e+01\n",
      "   2.92969275e+00 -1.38235340e+01  4.55608606e+00]\n",
      " [-9.53352356e+00 -6.97055483e+00 -7.26096058e+00 -8.81994915e+00\n",
      "  -2.22758579e+01 -6.79874325e+00 -1.04084578e+01 -5.40644312e+00\n",
      "  -7.12662411e+00 -6.37571573e+00 -1.03004417e+01  4.20197344e+00\n",
      "  -1.00797329e+01 -6.21246147e+00 -1.21031466e+01 -1.40994091e+01\n",
      "  -7.04916525e+00 -1.15591135e+01 -8.67718315e+00 -4.63606787e+00\n",
      "   3.69146633e+00 -3.41046977e+00 -1.48977184e+01  4.14987803e+00\n",
      "   1.53190672e+00 -7.91993046e+00 -5.55553198e+00 -3.31200838e-01\n",
      "   4.25710678e+00 -1.14901555e+00  5.31784105e+00 -6.67293262e+00\n",
      "  -9.02503109e+00 -1.01867170e+01 -7.32744503e+00 -1.08939276e+01\n",
      "  -1.28919811e+01 -1.24341383e+01 -1.14467506e+01 -1.44842978e+01\n",
      "  -9.76864338e+00 -3.00014758e+00 -4.60012722e+00]]\n",
      "NN predicted [ -4.1391873    0.55767363  -3.1920598   -0.37241846  -6.3460574\n",
      "  -3.644756   -14.952177    -8.248373    -4.974662    -3.673883\n",
      "  -6.2676415    0.6065185   -4.7354646   -2.924789     7.738871\n",
      "   2.8319871  -17.576982     0.03859015  -3.222384    -7.936957\n",
      "  -8.491583    -3.150237    -1.3368835   -4.991902    -4.736287\n",
      "  -2.070096    -0.9851829   -9.046116    -1.7463907    1.6939297\n",
      "  -2.7285788   -7.4403768   -4.7202444  -10.78772     -6.701458\n",
      " -15.148401   -12.050151   -16.665083    -9.093835   -14.707795\n",
      " -18.49965    -13.131793   -16.752644  ]\n"
     ]
    }
   ],
   "source": [
    "### Run the predictions here and use the model to output the prediction for each image.\n",
    "### Make sure to pre-process the images with the same pre-processing pipeline used earlier.\n",
    "### Feel free to use as many code cells as needed.\n",
    "\n",
    "new_image_shape = add_pics_data.shape\n",
    "print(\"Processed additional pictures shape =\", new_image_shape)\n",
    "\n",
    "\n",
    "with tf.Session() as sess:\n",
    "    saver.restore(sess, './lenet2')\n",
    "    new_pics_classes = sess.run(logits, feed_dict={x: add_pics_data, keep_prob: 1.0})\n",
    "    print(new_pics_classes)\n",
    "    print('NN predicted', new_pics_classes[0])\n",
    "\n",
    "#new_predictions = sess.run(prediction, feed_dict={input_ph: new_input})\n",
    "#classification = sess.run(tf.argmax(pred, 1), feed_dict={x_unflattened: [img]})\n",
    "#print(classification)\n",
    "#print('NN predicted', classification[0])\n",
    "#result = sess.run(softmax, feed_dict = { x: X_new_signs})\n"
   ]
  },
  {
   "cell_type": "markdown",
   "metadata": {},
   "source": [
    "### Analyze Performance"
   ]
  },
  {
   "cell_type": "code",
   "execution_count": 24,
   "metadata": {},
   "outputs": [
    {
     "name": "stdout",
     "output_type": "stream",
     "text": [
      "Image 0 probabilities: [7.738871   2.8319871  1.6939297  0.6065185  0.55767363] \n",
      " and predicted classes: [14 15 29 11  1]\n",
      "Image 1 probabilities: [13.213049  11.300585   8.468785   2.8339944  1.8076906] \n",
      " and predicted classes: [2 1 5 6 3]\n",
      "Image 2 probabilities: [7.6893973 7.1065407 6.003221  4.241786  4.1626797] \n",
      " and predicted classes: [31 23 19 29 24]\n",
      "Image 3 probabilities: [19.095287    3.7905488   0.62395924 -0.32470056 -2.0563955 ] \n",
      " and predicted classes: [25 20  5  2 23]\n",
      "Image 4 probabilities: [27.21089    7.4726114  4.556086   2.9296927  1.5546615] \n",
      " and predicted classes: [10  5 42 40  7]\n",
      "Image 5 probabilities: [5.317841  4.257107  4.2019734 4.149878  3.6914663] \n",
      " and predicted classes: [30 28 11 23 20]\n"
     ]
    }
   ],
   "source": [
    "### Calculate the accuracy for these 5 new images. \n",
    "### For example, if the model predicted 1 out of 5 signs correctly, it's 20% accurate on these new images.\n",
    "\n",
    "with tf.Session() as sess:\n",
    "    predicts = sess.run(tf.nn.top_k(new_pics_classes, k=5, sorted=True))\n",
    "    \n",
    "for i in range(len(predicts[0])):\n",
    "    print('Image', i, 'probabilities:', predicts[0][i], '\\n and predicted classes:', predicts[1][i])\n",
    "\n",
    "\n",
    "\n"
   ]
  },
  {
   "cell_type": "markdown",
   "metadata": {},
   "source": [
    "### Output Top 5 Softmax Probabilities For Each Image Found on the Web"
   ]
  },
  {
   "cell_type": "markdown",
   "metadata": {},
   "source": [
    "For each of the new images, print out the model's softmax probabilities to show the **certainty** of the model's predictions (limit the output to the top 5 probabilities for each image). [`tf.nn.top_k`](https://www.tensorflow.org/versions/r0.12/api_docs/python/nn.html#top_k) could prove helpful here. \n",
    "\n",
    "The example below demonstrates how tf.nn.top_k can be used to find the top k predictions for each image.\n",
    "\n",
    "`tf.nn.top_k` will return the values and indices (class ids) of the top k predictions. So if k=3, for each sign, it'll return the 3 largest probabilities (out of a possible 43) and the correspoding class ids.\n",
    "\n",
    "Take this numpy array as an example. The values in the array represent predictions. The array contains softmax probabilities for five candidate images with six possible classes. `tf.nn.top_k` is used to choose the three classes with the highest probability:\n",
    "\n",
    "```\n",
    "# (5, 6) array\n",
    "a = np.array([[ 0.24879643,  0.07032244,  0.12641572,  0.34763842,  0.07893497,\n",
    "         0.12789202],\n",
    "       [ 0.28086119,  0.27569815,  0.08594638,  0.0178669 ,  0.18063401,\n",
    "         0.15899337],\n",
    "       [ 0.26076848,  0.23664738,  0.08020603,  0.07001922,  0.1134371 ,\n",
    "         0.23892179],\n",
    "       [ 0.11943333,  0.29198961,  0.02605103,  0.26234032,  0.1351348 ,\n",
    "         0.16505091],\n",
    "       [ 0.09561176,  0.34396535,  0.0643941 ,  0.16240774,  0.24206137,\n",
    "         0.09155967]])\n",
    "```\n",
    "\n",
    "Running it through `sess.run(tf.nn.top_k(tf.constant(a), k=3))` produces:\n",
    "\n",
    "```\n",
    "TopKV2(values=array([[ 0.34763842,  0.24879643,  0.12789202],\n",
    "       [ 0.28086119,  0.27569815,  0.18063401],\n",
    "       [ 0.26076848,  0.23892179,  0.23664738],\n",
    "       [ 0.29198961,  0.26234032,  0.16505091],\n",
    "       [ 0.34396535,  0.24206137,  0.16240774]]), indices=array([[3, 0, 5],\n",
    "       [0, 1, 4],\n",
    "       [0, 5, 1],\n",
    "       [1, 3, 5],\n",
    "       [1, 4, 3]], dtype=int32))\n",
    "```\n",
    "\n",
    "Looking just at the first row we get `[ 0.34763842,  0.24879643,  0.12789202]`, you can confirm these are the 3 largest probabilities in `a`. You'll also notice `[3, 0, 5]` are the corresponding indices."
   ]
  },
  {
   "cell_type": "code",
   "execution_count": null,
   "metadata": {},
   "outputs": [],
   "source": [
    "### Print out the top five softmax probabilities for the predictions on the German traffic sign images found on the web. \n",
    "### Feel free to use as many code cells as needed."
   ]
  },
  {
   "cell_type": "markdown",
   "metadata": {},
   "source": [
    "### Project Writeup\n",
    "\n",
    "Once you have completed the code implementation, document your results in a project writeup using this [template](https://github.com/udacity/CarND-Traffic-Sign-Classifier-Project/blob/master/writeup_template.md) as a guide. The writeup can be in a markdown or pdf file. "
   ]
  },
  {
   "cell_type": "markdown",
   "metadata": {},
   "source": [
    "> **Note**: Once you have completed all of the code implementations and successfully answered each question above, you may finalize your work by exporting the iPython Notebook as an HTML document. You can do this by using the menu above and navigating to  \\n\",\n",
    "    \"**File -> Download as -> HTML (.html)**. Include the finished document along with this notebook as your submission."
   ]
  },
  {
   "cell_type": "markdown",
   "metadata": {},
   "source": [
    "---\n",
    "\n",
    "## Step 4 (Optional): Visualize the Neural Network's State with Test Images\n",
    "\n",
    " This Section is not required to complete but acts as an additional excersise for understaning the output of a neural network's weights. While neural networks can be a great learning device they are often referred to as a black box. We can understand what the weights of a neural network look like better by plotting their feature maps. After successfully training your neural network you can see what it's feature maps look like by plotting the output of the network's weight layers in response to a test stimuli image. From these plotted feature maps, it's possible to see what characteristics of an image the network finds interesting. For a sign, maybe the inner network feature maps react with high activation to the sign's boundary outline or to the contrast in the sign's painted symbol.\n",
    "\n",
    " Provided for you below is the function code that allows you to get the visualization output of any tensorflow weight layer you want. The inputs to the function should be a stimuli image, one used during training or a new one you provided, and then the tensorflow variable name that represents the layer's state during the training process, for instance if you wanted to see what the [LeNet lab's](https://classroom.udacity.com/nanodegrees/nd013/parts/fbf77062-5703-404e-b60c-95b78b2f3f9e/modules/6df7ae49-c61c-4bb2-a23e-6527e69209ec/lessons/601ae704-1035-4287-8b11-e2c2716217ad/concepts/d4aca031-508f-4e0b-b493-e7b706120f81) feature maps looked like for it's second convolutional layer you could enter conv2 as the tf_activation variable.\n",
    "\n",
    "For an example of what feature map outputs look like, check out NVIDIA's results in their paper [End-to-End Deep Learning for Self-Driving Cars](https://devblogs.nvidia.com/parallelforall/deep-learning-self-driving-cars/) in the section Visualization of internal CNN State. NVIDIA was able to show that their network's inner weights had high activations to road boundary lines by comparing feature maps from an image with a clear path to one without. Try experimenting with a similar test to show that your trained network's weights are looking for interesting features, whether it's looking at differences in feature maps from images with or without a sign, or even what feature maps look like in a trained network vs a completely untrained one on the same sign image.\n",
    "\n",
    "<figure>\n",
    " <img src=\"visualize_cnn.png\" width=\"380\" alt=\"Combined Image\" />\n",
    " <figcaption>\n",
    " <p></p> \n",
    " <p style=\"text-align: center;\"> Your output should look something like this (above)</p> \n",
    " </figcaption>\n",
    "</figure>\n",
    " <p></p> \n"
   ]
  },
  {
   "cell_type": "code",
   "execution_count": null,
   "metadata": {},
   "outputs": [],
   "source": [
    "### Visualize your network's feature maps here.\n",
    "### Feel free to use as many code cells as needed.\n",
    "\n",
    "# image_input: the test image being fed into the network to produce the feature maps\n",
    "# tf_activation: should be a tf variable name used during your training procedure that represents the calculated state of a specific weight layer\n",
    "# activation_min/max: can be used to view the activation contrast in more detail, by default matplot sets min and max to the actual min and max values of the output\n",
    "# plt_num: used to plot out multiple different weight feature map sets on the same block, just extend the plt number for each new feature map entry\n",
    "\n",
    "def outputFeatureMap(image_input, tf_activation, activation_min=-1, activation_max=-1 ,plt_num=1):\n",
    "    # Here make sure to preprocess your image_input in a way your network expects\n",
    "    # with size, normalization, ect if needed\n",
    "    # image_input =\n",
    "    # Note: x should be the same name as your network's tensorflow data placeholder variable\n",
    "    # If you get an error tf_activation is not defined it may be having trouble accessing the variable from inside a function\n",
    "    activation = tf_activation.eval(session=sess,feed_dict={x : image_input})\n",
    "    featuremaps = activation.shape[3]\n",
    "    plt.figure(plt_num, figsize=(15,15))\n",
    "    for featuremap in range(featuremaps):\n",
    "        plt.subplot(6,8, featuremap+1) # sets the number of feature maps to show on each row and column\n",
    "        plt.title('FeatureMap ' + str(featuremap)) # displays the feature map number\n",
    "        if activation_min != -1 & activation_max != -1:\n",
    "            plt.imshow(activation[0,:,:, featuremap], interpolation=\"nearest\", vmin =activation_min, vmax=activation_max, cmap=\"gray\")\n",
    "        elif activation_max != -1:\n",
    "            plt.imshow(activation[0,:,:, featuremap], interpolation=\"nearest\", vmax=activation_max, cmap=\"gray\")\n",
    "        elif activation_min !=-1:\n",
    "            plt.imshow(activation[0,:,:, featuremap], interpolation=\"nearest\", vmin=activation_min, cmap=\"gray\")\n",
    "        else:\n",
    "            plt.imshow(activation[0,:,:, featuremap], interpolation=\"nearest\", cmap=\"gray\")"
   ]
  }
 ],
 "metadata": {
  "anaconda-cloud": {},
  "kernelspec": {
   "display_name": "Python 3",
   "language": "python",
   "name": "python3"
  },
  "language_info": {
   "codemirror_mode": {
    "name": "ipython",
    "version": 3
   },
   "file_extension": ".py",
   "mimetype": "text/x-python",
   "name": "python",
   "nbconvert_exporter": "python",
   "pygments_lexer": "ipython3",
   "version": "3.5.2"
  },
  "widgets": {
   "state": {},
   "version": "1.1.2"
  }
 },
 "nbformat": 4,
 "nbformat_minor": 1
}
